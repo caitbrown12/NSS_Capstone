{
 "cells": [
  {
   "cell_type": "markdown",
   "id": "b8731882",
   "metadata": {},
   "source": [
    "# Read in CSVs based on NCES Tables"
   ]
  },
  {
   "cell_type": "code",
   "execution_count": null,
   "id": "8037ebd9",
   "metadata": {},
   "outputs": [],
   "source": [
    "import pandas as pd\n",
    "import numpy as np\n",
    "import matplotlib.pyplot as plt\n",
    "import seaborn as sns\n",
    "%matplotlib inline\n",
    "import re\n",
    "from ipywidgets import interactive\n",
    "pd.set_option('display.max_columns', None)\n",
    "pd.set_option('display.max_rows', None)"
   ]
  },
  {
   "cell_type": "markdown",
   "id": "420735fb",
   "metadata": {},
   "source": [
    "ELSI Table Generator - https://nces.ed.gov/ccd/elsi/tableGenerator.aspx?savedTableID=357855\n",
    "\n",
    "Select a Table Row - District\n",
    "\n",
    "Select Years - 13-14, 14-15, 15-16, 16-17, 17-18, 18-19, 19-20, 20-21\n",
    "\n",
    "Select Table Columns - Information (7), Characteristics (4), Enrollments (1), Teachers & Staff (3)\n",
    "\n",
    "Select Filters (Refinements) - All 50 States + DC"
   ]
  },
  {
   "cell_type": "code",
   "execution_count": null,
   "id": "ebeac379",
   "metadata": {
    "scrolled": true
   },
   "outputs": [],
   "source": [
    "year_13 = pd.read_csv(\"../data/elsi1314.csv\", skiprows=6, nrows=18609)\n",
    "#year_13.tail()"
   ]
  },
  {
   "cell_type": "code",
   "execution_count": null,
   "id": "dabc721c",
   "metadata": {},
   "outputs": [],
   "source": [
    "year_14 = pd.read_csv(\"../data/elsi1415.csv\", skiprows=6, nrows=18620)\n",
    "#year_14.tail()"
   ]
  },
  {
   "cell_type": "code",
   "execution_count": null,
   "id": "1ca0bc07",
   "metadata": {},
   "outputs": [],
   "source": [
    "year_15 = pd.read_csv(\"../data/elsi1516.csv\", skiprows=6, nrows=18678)\n",
    "#year_15.tail()"
   ]
  },
  {
   "cell_type": "code",
   "execution_count": null,
   "id": "d58b05aa",
   "metadata": {},
   "outputs": [],
   "source": [
    "year_16 = pd.read_csv(\"../data/elsi1617.csv\", skiprows=6, nrows=18468)\n",
    "#year_16.tail()"
   ]
  },
  {
   "cell_type": "code",
   "execution_count": null,
   "id": "8093f2e4",
   "metadata": {},
   "outputs": [],
   "source": [
    "year_17 = pd.read_csv(\"../data/elsi1718.csv\", skiprows=6, nrows=18440)\n",
    "#year_17.tail()"
   ]
  },
  {
   "cell_type": "code",
   "execution_count": null,
   "id": "b314037b",
   "metadata": {},
   "outputs": [],
   "source": [
    "year_18 = pd.read_csv(\"../data/elsi1819.csv\", skiprows=6, nrows=19406)\n",
    "#year_18.tail()"
   ]
  },
  {
   "cell_type": "code",
   "execution_count": null,
   "id": "c420cdf4",
   "metadata": {},
   "outputs": [],
   "source": [
    "year_19 = pd.read_csv(\"../data/elsi1920.csv\", skiprows=6, nrows=19534)\n",
    "#year_19.tail()"
   ]
  },
  {
   "cell_type": "code",
   "execution_count": null,
   "id": "a16dbffc",
   "metadata": {},
   "outputs": [],
   "source": [
    "year_20 = pd.read_csv(\"../data/elsi2021.csv\", skiprows=6, nrows=19388)\n",
    "#year_20.tail()"
   ]
  },
  {
   "cell_type": "markdown",
   "id": "9c9f6bf3",
   "metadata": {},
   "source": [
    "## DataFrame Shape\n",
    "Confirms that each DataFrame has an equivalent number of columns"
   ]
  },
  {
   "cell_type": "code",
   "execution_count": null,
   "id": "16099b79",
   "metadata": {},
   "outputs": [],
   "source": [
    "#year_13.shape"
   ]
  },
  {
   "cell_type": "code",
   "execution_count": null,
   "id": "9ecf7b33",
   "metadata": {},
   "outputs": [],
   "source": [
    "#year_14.shape"
   ]
  },
  {
   "cell_type": "code",
   "execution_count": null,
   "id": "45abd49c",
   "metadata": {},
   "outputs": [],
   "source": [
    "#year_15.shape"
   ]
  },
  {
   "cell_type": "code",
   "execution_count": null,
   "id": "845e0ae0",
   "metadata": {},
   "outputs": [],
   "source": [
    "#year_16.shape"
   ]
  },
  {
   "cell_type": "code",
   "execution_count": null,
   "id": "e2c85b1d",
   "metadata": {},
   "outputs": [],
   "source": [
    "#year_17.shape"
   ]
  },
  {
   "cell_type": "code",
   "execution_count": null,
   "id": "9182ed34",
   "metadata": {},
   "outputs": [],
   "source": [
    "#year_18.shape"
   ]
  },
  {
   "cell_type": "code",
   "execution_count": null,
   "id": "73f216b9",
   "metadata": {},
   "outputs": [],
   "source": [
    "#year_19.shape"
   ]
  },
  {
   "cell_type": "code",
   "execution_count": null,
   "id": "90060d8e",
   "metadata": {},
   "outputs": [],
   "source": [
    "#year_20.shape"
   ]
  },
  {
   "cell_type": "markdown",
   "id": "9480d1c9",
   "metadata": {},
   "source": [
    "## Adding Year Column\n",
    "By adding a static year column to each DataFrame, the columns can be given generic names in order to be combined later"
   ]
  },
  {
   "cell_type": "code",
   "execution_count": null,
   "id": "c0bfb72c",
   "metadata": {},
   "outputs": [],
   "source": [
    "year_13['Year'] = '2013'\n",
    "#year_13.head(2)"
   ]
  },
  {
   "cell_type": "code",
   "execution_count": null,
   "id": "3b66d0a1",
   "metadata": {},
   "outputs": [],
   "source": [
    "year_14['Year'] = '2014'\n",
    "#year_14.head(2)"
   ]
  },
  {
   "cell_type": "code",
   "execution_count": null,
   "id": "10091391",
   "metadata": {},
   "outputs": [],
   "source": [
    "year_15['Year'] = '2015'\n",
    "#year_1516.head(2)"
   ]
  },
  {
   "cell_type": "code",
   "execution_count": null,
   "id": "d4f8fc58",
   "metadata": {},
   "outputs": [],
   "source": [
    "year_16['Year'] = '2016'\n",
    "#year_16.head(2)"
   ]
  },
  {
   "cell_type": "code",
   "execution_count": null,
   "id": "7e0dfbfe",
   "metadata": {},
   "outputs": [],
   "source": [
    "year_17['Year'] = '2017'\n",
    "#year_17.head(2)"
   ]
  },
  {
   "cell_type": "code",
   "execution_count": null,
   "id": "5f9bdd77",
   "metadata": {},
   "outputs": [],
   "source": [
    "year_18['Year'] = '2018'\n",
    "#year_18.head(2)"
   ]
  },
  {
   "cell_type": "code",
   "execution_count": null,
   "id": "d67e5c57",
   "metadata": {},
   "outputs": [],
   "source": [
    "year_19['Year'] = '2019'\n",
    "#year_19.head(2)"
   ]
  },
  {
   "cell_type": "code",
   "execution_count": null,
   "id": "9e952abd",
   "metadata": {},
   "outputs": [],
   "source": [
    "year_20['Year'] = '2020'\n",
    "#year_20.head(2)"
   ]
  },
  {
   "cell_type": "markdown",
   "id": "f48d0b30",
   "metadata": {},
   "source": [
    "## Standardizing Column Names\n",
    "Each annual DataFrame will have the same columns. Based on the number of nulls in each, either the State Name or State column will be dropped. State Name is derived from the 'last year available' data and State is derived from the selected year."
   ]
  },
  {
   "cell_type": "code",
   "execution_count": null,
   "id": "d8f26fc6",
   "metadata": {},
   "outputs": [],
   "source": [
    "year_13.columns = ['Agency Name', 'State Name', 'State Abbreviation', 'NCES ID', 'State', 'District', 'County', 'School Count', 'ZIP Code', 'District Type', 'Locale', 'Start of Year Status', 'Student Count', 'FTE Teachers', 'Pupil/Teacher Ratio', 'Total Staff', 'Year']\n",
    "#year_13.head(2)"
   ]
  },
  {
   "cell_type": "code",
   "execution_count": null,
   "id": "6b19d001",
   "metadata": {},
   "outputs": [],
   "source": [
    "year_14.columns = ['Agency Name', 'State Name', 'State Abbreviation', 'NCES ID', 'State', 'District', 'County', 'School Count', 'ZIP Code', 'District Type', 'Locale', 'Start of Year Status', 'Updated Status', 'Student Count', 'FTE Teachers', 'Pupil/Teacher Ratio', 'Total Staff', 'Year']\n",
    "#year_14.head(2)"
   ]
  },
  {
   "cell_type": "code",
   "execution_count": null,
   "id": "a16aa3a1",
   "metadata": {},
   "outputs": [],
   "source": [
    "year_15.columns = ['Agency Name', 'State Name', 'State Abbreviation', 'NCES ID', 'State', 'District', 'County', 'School Count', 'ZIP Code', 'District Type', 'Locale', 'Start of Year Status', 'Updated Status', 'Student Count', 'FTE Teachers', 'Pupil/Teacher Ratio', 'Total Staff', 'Year']\n",
    "#year_15.head(2)"
   ]
  },
  {
   "cell_type": "code",
   "execution_count": null,
   "id": "754118c9",
   "metadata": {},
   "outputs": [],
   "source": [
    "year_16.columns = ['Agency Name', 'State Name', 'State Abbreviation', 'NCES ID', 'State', 'District', 'County', 'School Count', 'ZIP Code', 'District Type', 'Locale', 'Start of Year Status', 'Updated Status', 'Student Count', 'FTE Teachers', 'Pupil/Teacher Ratio', 'Total Staff', 'Year']\n",
    "#year_16.head(2)"
   ]
  },
  {
   "cell_type": "code",
   "execution_count": null,
   "id": "1265b771",
   "metadata": {},
   "outputs": [],
   "source": [
    "year_17.columns = ['Agency Name', 'State Name', 'State Abbreviation', 'NCES ID', 'State', 'District', 'County', 'School Count', 'ZIP Code', 'District Type', 'Locale', 'Start of Year Status', 'Updated Status', 'Student Count', 'FTE Teachers', 'Pupil/Teacher Ratio', 'Total Staff', 'Year']\n",
    "#year_17.head(2)"
   ]
  },
  {
   "cell_type": "code",
   "execution_count": null,
   "id": "fe7b8459",
   "metadata": {},
   "outputs": [],
   "source": [
    "year_18.columns = ['Agency Name', 'State Name', 'State Abbreviation', 'NCES ID', 'State', 'District', 'County', 'School Count', 'ZIP Code', 'District Type', 'Locale', 'Start of Year Status', 'Updated Status', 'Student Count', 'FTE Teachers', 'Pupil/Teacher Ratio', 'Total Staff', 'Year']\n",
    "#year_18.head(2)"
   ]
  },
  {
   "cell_type": "code",
   "execution_count": null,
   "id": "3d8ef1c1",
   "metadata": {},
   "outputs": [],
   "source": [
    "year_19.columns = ['Agency Name', 'State Name', 'State Abbreviation', 'NCES ID', 'State', 'District', 'County', 'School Count', 'ZIP Code', 'District Type', 'Locale', 'Start of Year Status', 'Updated Status', 'Student Count', 'FTE Teachers', 'Pupil/Teacher Ratio', 'Total Staff', 'Year']\n",
    "#year_19.head(2)"
   ]
  },
  {
   "cell_type": "code",
   "execution_count": null,
   "id": "463451a2",
   "metadata": {
    "scrolled": false
   },
   "outputs": [],
   "source": [
    "year_20.columns = ['Agency Name', 'State Name', 'State Abbreviation', 'NCES ID', 'State', 'District', 'County', 'School Count', 'ZIP Code', 'District Type', 'Locale', 'Start of Year Status', 'Updated Status', 'Student Count', 'FTE Teachers', 'Pupil/Teacher Ratio', 'Total Staff', 'Year']\n",
    "#year_20.head(2)"
   ]
  },
  {
   "cell_type": "markdown",
   "id": "0989f088",
   "metadata": {},
   "source": [
    "## pd.Replace\n",
    "Convert symbols included from ELSI into NA and NaN for more accurate EDA"
   ]
  },
  {
   "cell_type": "code",
   "execution_count": null,
   "id": "baccc92c",
   "metadata": {},
   "outputs": [],
   "source": [
    "year_131 =year_13.replace('†', 'NA')\n",
    "#year_131.head()"
   ]
  },
  {
   "cell_type": "code",
   "execution_count": null,
   "id": "7561013f",
   "metadata": {},
   "outputs": [],
   "source": [
    "year_141 = year_14.replace('†', 'NA')\n",
    "#year_141.head()"
   ]
  },
  {
   "cell_type": "code",
   "execution_count": null,
   "id": "7ce4f8f8",
   "metadata": {},
   "outputs": [],
   "source": [
    "year_151 = year_15.replace('†', 'NA')\n",
    "#year_151.head(2)"
   ]
  },
  {
   "cell_type": "code",
   "execution_count": null,
   "id": "74227386",
   "metadata": {},
   "outputs": [],
   "source": [
    "year_161 = year_16.replace('†', 'NA')\n",
    "#year_161.head(2)"
   ]
  },
  {
   "cell_type": "code",
   "execution_count": null,
   "id": "aa13b1a1",
   "metadata": {},
   "outputs": [],
   "source": [
    "year_171 = year_17.replace('†', 'NA')\n",
    "#year_171.head()"
   ]
  },
  {
   "cell_type": "code",
   "execution_count": null,
   "id": "97c3f06e",
   "metadata": {},
   "outputs": [],
   "source": [
    "year_181 = year_18.replace('†', 'NA')\n",
    "#year_181.head()"
   ]
  },
  {
   "cell_type": "code",
   "execution_count": null,
   "id": "d2d239d8",
   "metadata": {
    "scrolled": true
   },
   "outputs": [],
   "source": [
    "year_191 = year_19.replace('†', 'NA')\n",
    "#year_191.head()"
   ]
  },
  {
   "cell_type": "code",
   "execution_count": null,
   "id": "c82311b4",
   "metadata": {
    "scrolled": true
   },
   "outputs": [],
   "source": [
    "year_201 = year_20.replace('†', 'NA')\n",
    "#year_201.head()"
   ]
  },
  {
   "cell_type": "code",
   "execution_count": null,
   "id": "e59b6aef",
   "metadata": {},
   "outputs": [],
   "source": [
    "year_132 =year_131.replace('–', 'NaN')\n",
    "#year_132.head()"
   ]
  },
  {
   "cell_type": "code",
   "execution_count": null,
   "id": "1635ca50",
   "metadata": {},
   "outputs": [],
   "source": [
    "year_142 =year_141.replace('–', 'NaN')\n",
    "#year_142.head()"
   ]
  },
  {
   "cell_type": "code",
   "execution_count": null,
   "id": "f5fcd134",
   "metadata": {},
   "outputs": [],
   "source": [
    "year_152 =year_151.replace('–', 'NaN')\n",
    "#year_152.head()"
   ]
  },
  {
   "cell_type": "code",
   "execution_count": null,
   "id": "d32ffd06",
   "metadata": {},
   "outputs": [],
   "source": [
    "year_162 =year_161.replace('–', 'NaN')\n",
    "#year_162.head()"
   ]
  },
  {
   "cell_type": "code",
   "execution_count": null,
   "id": "1c637fe9",
   "metadata": {},
   "outputs": [],
   "source": [
    "year_172 =year_171.replace('–', 'NaN')\n",
    "#year_172.head()"
   ]
  },
  {
   "cell_type": "code",
   "execution_count": null,
   "id": "175a590d",
   "metadata": {},
   "outputs": [],
   "source": [
    "year_182 =year_181.replace('–', 'NaN')\n",
    "#year_182.head()"
   ]
  },
  {
   "cell_type": "code",
   "execution_count": null,
   "id": "a9fb9f9a",
   "metadata": {},
   "outputs": [],
   "source": [
    "year_192 =year_191.replace('–', 'NaN')\n",
    "#year_192.head()"
   ]
  },
  {
   "cell_type": "code",
   "execution_count": null,
   "id": "1f9084c6",
   "metadata": {},
   "outputs": [],
   "source": [
    "year_202 =year_201.replace('–', 'NaN')\n",
    "#year_202.head()"
   ]
  },
  {
   "cell_type": "markdown",
   "id": "e3d7271a",
   "metadata": {},
   "source": [
    "## pd.Concat & df.reindex"
   ]
  },
  {
   "cell_type": "code",
   "execution_count": null,
   "id": "bad953f4",
   "metadata": {},
   "outputs": [],
   "source": [
    "enrollments1 = pd.concat([year_132, year_142, year_152, year_162, year_172, year_182, year_192, year_202], axis=0)\n",
    "#enrollments1.head()"
   ]
  },
  {
   "cell_type": "code",
   "execution_count": null,
   "id": "4ff18d34",
   "metadata": {},
   "outputs": [],
   "source": [
    "enrollments1 = enrollments1.reindex(columns = ['Agency Name', 'State Name', 'State Abbreviation', 'NCES ID', 'State', 'District', 'County', 'School Count', 'ZIP Code', 'District Type', 'Locale', 'Start of Year Status', 'Updated Status', 'Student Count', 'FTE Teachers', 'Pupil/Teacher Ratio', 'Total Staff', 'Year'])\n",
    "#enrollments1.head()"
   ]
  },
  {
   "cell_type": "code",
   "execution_count": null,
   "id": "bea2554f",
   "metadata": {},
   "outputs": [],
   "source": [
    "enrollments1['State Name'] = enrollments1['State Name'].str.upper()\n",
    "#enrollments1.head()"
   ]
  },
  {
   "cell_type": "code",
   "execution_count": null,
   "id": "fe776808",
   "metadata": {
    "scrolled": true
   },
   "outputs": [],
   "source": [
    "enrollments1['State'] = enrollments1['State'].str.upper()\n",
    "#enrollments1.head()"
   ]
  },
  {
   "cell_type": "code",
   "execution_count": null,
   "id": "84b64cf6",
   "metadata": {},
   "outputs": [],
   "source": [
    "enrollments1['District'] = enrollments1['District'].str.upper()\n",
    "#enrollments1.head(15)"
   ]
  },
  {
   "cell_type": "markdown",
   "id": "bdd916b0",
   "metadata": {},
   "source": [
    "## Data Cleaning\n",
    "Using general EDA to identify opportunities to clean and organize the data"
   ]
  },
  {
   "cell_type": "code",
   "execution_count": null,
   "id": "3548bc21",
   "metadata": {},
   "outputs": [],
   "source": [
    "enrollments1.info()\n",
    "#symbols used by NCES are see as non-null by Python. Will need further EDA to discern best state column to keep"
   ]
  },
  {
   "cell_type": "code",
   "execution_count": null,
   "id": "0f31bd22",
   "metadata": {},
   "outputs": [],
   "source": [
    "enrollments1['Agency Name'].value_counts()"
   ]
  },
  {
   "cell_type": "code",
   "execution_count": null,
   "id": "742eed9e",
   "metadata": {
    "scrolled": true
   },
   "outputs": [],
   "source": [
    "enrollments1['State Name'].value_counts()"
   ]
  },
  {
   "cell_type": "code",
   "execution_count": null,
   "id": "4f6d6eea",
   "metadata": {},
   "outputs": [],
   "source": [
    "#enrollments1['State'].value_counts()\n",
    "#will drop this column as the numbers in State Name are consistently higher and indicate a more complete column"
   ]
  },
  {
   "cell_type": "code",
   "execution_count": null,
   "id": "de04632e",
   "metadata": {},
   "outputs": [],
   "source": [
    "enrollments = enrollments1.drop(\"State\", axis=1)\n",
    "#enrollments.head()"
   ]
  },
  {
   "cell_type": "code",
   "execution_count": null,
   "id": "309c57e2",
   "metadata": {},
   "outputs": [],
   "source": [
    "type(enrollments)"
   ]
  },
  {
   "cell_type": "code",
   "execution_count": null,
   "id": "3181fef3",
   "metadata": {},
   "outputs": [],
   "source": [
    "enrollments['District Type'].value_counts()"
   ]
  },
  {
   "cell_type": "code",
   "execution_count": null,
   "id": "3031bf30",
   "metadata": {},
   "outputs": [],
   "source": [
    "enrollments['District Type'].value_counts(normalize=True)"
   ]
  },
  {
   "cell_type": "code",
   "execution_count": null,
   "id": "296e33fe",
   "metadata": {},
   "outputs": [],
   "source": [
    "enrollments['Locale'].value_counts()"
   ]
  },
  {
   "cell_type": "code",
   "execution_count": null,
   "id": "04ddc938",
   "metadata": {},
   "outputs": [],
   "source": [
    "enrollments['Locale'].value_counts(normalize=True)"
   ]
  },
  {
   "cell_type": "code",
   "execution_count": null,
   "id": "c61c84a1",
   "metadata": {},
   "outputs": [],
   "source": [
    "enrollments['School Count'].value_counts()\n",
    "#replace =\"0\" with 0"
   ]
  },
  {
   "cell_type": "code",
   "execution_count": null,
   "id": "fdf12a34",
   "metadata": {},
   "outputs": [],
   "source": [
    "enrollments = enrollments.replace('=\"0\"', 0)\n",
    "#enrollments['School Count'].value_counts()"
   ]
  },
  {
   "cell_type": "code",
   "execution_count": null,
   "id": "070ededa",
   "metadata": {
    "scrolled": false
   },
   "outputs": [],
   "source": [
    "#enrollments['Pupil/Teacher Ratio'].value_counts()\n",
    "#need to remove =\"\" notation from some entries. regex?"
   ]
  },
  {
   "cell_type": "code",
   "execution_count": null,
   "id": "c7586523",
   "metadata": {},
   "outputs": [],
   "source": [
    "enrollments['Pupil/Teacher Ratio'] = enrollments['Pupil/Teacher Ratio'].map(lambda x: x.strip('=\"').rstrip('\"'))\n",
    "#https://stackoverflow.com/questions/13682044/remove-unwanted-parts-from-strings-in-a-column"
   ]
  },
  {
   "cell_type": "code",
   "execution_count": null,
   "id": "69dace5e",
   "metadata": {},
   "outputs": [],
   "source": [
    "#enrollments['Pupil/Teacher Ratio'].value_counts()"
   ]
  },
  {
   "cell_type": "code",
   "execution_count": null,
   "id": "f3ec5687",
   "metadata": {},
   "outputs": [],
   "source": [
    "enrollments['ZIP Code'] = enrollments['ZIP Code'].map(lambda x: str(x).strip('=\"').rstrip('\"'))"
   ]
  },
  {
   "cell_type": "code",
   "execution_count": null,
   "id": "bd53f1ad",
   "metadata": {
    "scrolled": true
   },
   "outputs": [],
   "source": [
    "enrollments['ZIP Code'].value_counts()"
   ]
  },
  {
   "cell_type": "code",
   "execution_count": null,
   "id": "3f868ea7",
   "metadata": {},
   "outputs": [],
   "source": [
    "enrollments['NCES ID'] = enrollments['NCES ID'].map(lambda x: str(x).strip('=\"').rstrip('\"'))"
   ]
  },
  {
   "cell_type": "code",
   "execution_count": null,
   "id": "be1d6da9",
   "metadata": {},
   "outputs": [],
   "source": [
    "enrollments['NCES ID'].value_counts()"
   ]
  },
  {
   "cell_type": "code",
   "execution_count": null,
   "id": "c61b5519",
   "metadata": {},
   "outputs": [],
   "source": [
    "enrollments['FTE Teachers'] = enrollments['FTE Teachers'].map(lambda x: str(x).strip('=\"').rstrip('\"'))"
   ]
  },
  {
   "cell_type": "code",
   "execution_count": null,
   "id": "acffbe66",
   "metadata": {},
   "outputs": [],
   "source": [
    "enrollments['FTE Teachers'].value_counts()"
   ]
  },
  {
   "cell_type": "code",
   "execution_count": null,
   "id": "1e33fefd",
   "metadata": {},
   "outputs": [],
   "source": [
    "enrollments['Total Staff'] = enrollments['Total Staff'].map(lambda x: str(x).strip('=\"').rstrip('\"'))"
   ]
  },
  {
   "cell_type": "code",
   "execution_count": null,
   "id": "f52a445e",
   "metadata": {},
   "outputs": [],
   "source": [
    "enrollments['Total Staff'].value_counts()"
   ]
  },
  {
   "cell_type": "code",
   "execution_count": null,
   "id": "0b0520dd",
   "metadata": {},
   "outputs": [],
   "source": [
    "enrollments.dtypes"
   ]
  },
  {
   "cell_type": "code",
   "execution_count": null,
   "id": "eadb4fb2",
   "metadata": {},
   "outputs": [],
   "source": [
    "enrollments['NCES ID'] = pd.to_numeric(enrollments['NCES ID'], errors='coerce')"
   ]
  },
  {
   "cell_type": "code",
   "execution_count": null,
   "id": "4fcbb566",
   "metadata": {},
   "outputs": [],
   "source": [
    "enrollments.dtypes"
   ]
  },
  {
   "cell_type": "code",
   "execution_count": null,
   "id": "bf9a91d8",
   "metadata": {},
   "outputs": [],
   "source": [
    "enrollments.groupby('Agency Name')['Year'].value_counts().unstack()\n",
    "#are there other grouping options that would allow for looking at student counts inside of each year?"
   ]
  },
  {
   "cell_type": "code",
   "execution_count": null,
   "id": "1415476d",
   "metadata": {},
   "outputs": [],
   "source": [
    "stucounts = enrollments.value_counts(subset = ['NCES ID', 'Year', 'Student Count']).sort_values()\n",
    "stucounts"
   ]
  },
  {
   "cell_type": "code",
   "execution_count": null,
   "id": "2503e554",
   "metadata": {},
   "outputs": [],
   "source": [
    "enrollments.head()"
   ]
  },
  {
   "cell_type": "code",
   "execution_count": null,
   "id": "2313ba8e",
   "metadata": {
    "scrolled": true
   },
   "outputs": [],
   "source": [
    "enrollments.sort_values(['NCES ID', 'Year'], ascending=[True, True], inplace=True)\n",
    "enrollments.head(20)\n",
    "#sorted by NCES ID, a unique identifier, and then by year"
   ]
  },
  {
   "cell_type": "code",
   "execution_count": null,
   "id": "36c1c940",
   "metadata": {},
   "outputs": [],
   "source": [
    "enrollments = enrollments.reset_index()\n",
    "enrollments.head()"
   ]
  },
  {
   "cell_type": "code",
   "execution_count": null,
   "id": "5fc52133",
   "metadata": {},
   "outputs": [],
   "source": [
    "enrollments.info()"
   ]
  },
  {
   "cell_type": "code",
   "execution_count": null,
   "id": "4c08036c",
   "metadata": {},
   "outputs": [],
   "source": [
    "enrollments['Year'] = pd.to_numeric(enrollments['Year'], errors='coerce')"
   ]
  },
  {
   "cell_type": "code",
   "execution_count": null,
   "id": "1d5826c1",
   "metadata": {},
   "outputs": [],
   "source": [
    "enrollments['Student Count'] = pd.to_numeric(enrollments['Student Count'], errors ='coerce')"
   ]
  },
  {
   "cell_type": "code",
   "execution_count": null,
   "id": "e3d1d68f",
   "metadata": {
    "scrolled": true
   },
   "outputs": [],
   "source": [
    "enrollments.info()"
   ]
  },
  {
   "cell_type": "code",
   "execution_count": null,
   "id": "5dc61a95",
   "metadata": {},
   "outputs": [],
   "source": [
    "enrollments['District Type'] = enrollments['District Type'].str[0]\n",
    "#enrollments.head(10)\n",
    "#converted District Type column to numeric representation only"
   ]
  },
  {
   "cell_type": "code",
   "execution_count": null,
   "id": "f8754a0a",
   "metadata": {
    "scrolled": true
   },
   "outputs": [],
   "source": [
    "enrollments['District Type'].value_counts()"
   ]
  },
  {
   "cell_type": "code",
   "execution_count": null,
   "id": "174fc7c6",
   "metadata": {},
   "outputs": [],
   "source": [
    "enrollments.head(2)"
   ]
  },
  {
   "cell_type": "code",
   "execution_count": null,
   "id": "db9a27ce",
   "metadata": {},
   "outputs": [],
   "source": [
    "enrollments.to_csv(\"../data/enrollmentsdf.csv\")"
   ]
  },
  {
   "cell_type": "code",
   "execution_count": null,
   "id": "e71d1450",
   "metadata": {
    "scrolled": true
   },
   "outputs": [],
   "source": [
    "localdistricts = enrollments.loc[enrollments['District Type'] == '1']\n",
    "localdistricts.head()"
   ]
  },
  {
   "cell_type": "code",
   "execution_count": null,
   "id": "4647aff6",
   "metadata": {},
   "outputs": [],
   "source": [
    "localdistricts.shape"
   ]
  },
  {
   "cell_type": "code",
   "execution_count": null,
   "id": "f71bfb58",
   "metadata": {},
   "outputs": [],
   "source": [
    "localdistricts.to_csv(\"../data/localdistricts.csv\")"
   ]
  },
  {
   "cell_type": "code",
   "execution_count": null,
   "id": "f42a4ef4",
   "metadata": {},
   "outputs": [],
   "source": [
    "#https://www.youtube.com/watch?v=ZUFmdsgvDts&list=PL6_D9USWkG1A2pZeN2NOqkDdtD16TDn6P&index=21\n",
    "#pivot table tutorial - would be a good alternative to .groupby with .value_counts"
   ]
  },
  {
   "cell_type": "markdown",
   "id": "85b86258",
   "metadata": {},
   "source": [
    "Next steps - create nested loop to complete calculations showing differences in enrollment from one year to the next\n",
    "\n",
    "WHILE NCES ID is equal FOR years (rows) that are larger than the previous row, the difference in student count should be calculated by (year + 1) - year = difference. BREAK/ELSE when largest year is reached and move to next NCES ID.\n"
   ]
  },
  {
   "cell_type": "markdown",
   "id": "ce2ea8dd",
   "metadata": {},
   "source": [
    "## Creating Loop to Calculate Enrollment Changes by Year for Each NCES ID\n",
    "Practicing on a singular district or state before attempting across the general DataFrame.\n",
    "\n",
    "Loop Requirements\n",
    "\n",
    "1. Loop through years IF the NCES ID is the same\n",
    "\n",
    "2. Loop through years IF next row is larger than the current row AND condition #1 is met\n",
    "\n",
    "3. Calculate difference in student count by (student count row + 1) - (student count row) = enrollment difference\n",
    "\n",
    "4. Make a new column for enrollment difference\n",
    "\n",
    "5. If next year is NOT larger AND NCES ID is NOT equal, break loop and move to next NCES ID\n",
    "\n",
    "Columns\n",
    "1. NCES ID - existing\n",
    "\n",
    "2. Year - existing\n",
    "\n",
    "3. Student Count - existing\n",
    "\n",
    "4. Enrollment Difference - created by loop"
   ]
  },
  {
   "cell_type": "code",
   "execution_count": null,
   "id": "97e1afb2",
   "metadata": {},
   "outputs": [],
   "source": [
    "# lausd = enrollments.loc[enrollments['District'] == 'LOS ANGELES UNIFIED'].reset_index()\n",
    "# lausd"
   ]
  },
  {
   "cell_type": "code",
   "execution_count": null,
   "id": "5bf8d2eb",
   "metadata": {},
   "outputs": [],
   "source": [
    "# wyoming = enrollments.loc[enrollments['State Name'] == 'WYOMING']\n",
    "# wyoming"
   ]
  },
  {
   "cell_type": "markdown",
   "id": "7746e7b0",
   "metadata": {},
   "source": [
    "#trying to just iterate through a few years to get the syntax down and then build other loops onto it\n",
    "\n",
    "student_diff=[]\n",
    "student_diff.append(enrollments['results'])\n",
    "year = 2013\n",
    "while year < 2021:\n",
    "    student_diff.append(enrollments['results'])\n",
    "    year = year + 1\n",
    "    print(enrollments.groupby('NCES ID')['Student Count'])\n",
    "else:\n",
    "    print ('------')\n",
    "    \n",
    "#ran endlessly with no answer"
   ]
  },
  {
   "cell_type": "code",
   "execution_count": null,
   "id": "5805b7e4",
   "metadata": {},
   "outputs": [],
   "source": [
    "# for key, value in lausd.iteritems():\n",
    "#     print(key, value)\n",
    "#would be helpful for iterating between the different years when the NCES ID number is the same and the year increases by 1. iteritems is iterating by row and calculations will need to run down a column instead\n",
    "#https://www.youtube.com/watch?v=hZ_iiuh8CDo"
   ]
  },
  {
   "cell_type": "code",
   "execution_count": null,
   "id": "e6594811",
   "metadata": {},
   "outputs": [],
   "source": [
    "# for key, value in lausd['Student Count'].iteritems():\n",
    "#     print(([key, value] + 1) -(key, value))\n",
    "#TypeError: can only concatenate list (not \"int\") to list"
   ]
  },
  {
   "cell_type": "code",
   "execution_count": null,
   "id": "72622bc3",
   "metadata": {},
   "outputs": [],
   "source": [
    "# school_id=enrollments['NCES ID'][0]\n",
    "# enrollment_changes =[]\n",
    "# enrollment_diff=''\n",
    "\n",
    "# for index, row in enrollments.iterrows():\n",
    "#     if index != 0:\n",
    "#         if school_id == row['NCES ID']:\n",
    "#             enrollment_diff = enrollments.loc[index, 'Student Count'] - enrollments.loc[int(index)-1, 'Student Count']\n",
    "#         else:\n",
    "#             enrollment_diff = 'NA'\n",
    "#     else:\n",
    "#         enrollment_diff = 'NA'\n",
    "        \n",
    "#     school_id=row['NCES ID']\n",
    "#     enrollment_changes.append(enrollment_diff)\n",
    "#     print(enrollment_changes)\n",
    "#     print(enrollment_diff)"
   ]
  },
  {
   "cell_type": "code",
   "execution_count": null,
   "id": "de70f038",
   "metadata": {},
   "outputs": [],
   "source": [
    "#enrollments['Enrollment Change'] = enrollment_changes"
   ]
  },
  {
   "cell_type": "code",
   "execution_count": null,
   "id": "3d05be3a",
   "metadata": {
    "scrolled": true
   },
   "outputs": [],
   "source": [
    "#enrollments.head(20)"
   ]
  },
  {
   "cell_type": "markdown",
   "id": "a92775ed",
   "metadata": {},
   "source": [
    "## Optimizing the Loop"
   ]
  },
  {
   "cell_type": "code",
   "execution_count": null,
   "id": "ea796dfb",
   "metadata": {
    "scrolled": true
   },
   "outputs": [],
   "source": [
    "localdistrictsloop = localdistricts[['Agency Name', 'State Name', 'NCES ID', 'Student Count', 'Year']].copy()\n",
    "localdistrictsloop.head(10)\n",
    "#only keeping the columns necessary for the loop and eventual merging with the webscraping data. Also filtered to only include local districts that are not part of a supervisory union"
   ]
  },
  {
   "cell_type": "code",
   "execution_count": null,
   "id": "fda7c0d3",
   "metadata": {},
   "outputs": [],
   "source": [
    "localdistrictsloop = localdistrictsloop.reset_index()\n",
    "localdistrictsloop.head(10)"
   ]
  },
  {
   "cell_type": "code",
   "execution_count": null,
   "id": "e70d3d64",
   "metadata": {},
   "outputs": [],
   "source": [
    "localdistrictsloop.shape"
   ]
  },
  {
   "cell_type": "code",
   "execution_count": null,
   "id": "758463b8",
   "metadata": {},
   "outputs": [],
   "source": [
    "school_id=localdistrictsloop['NCES ID'][0]\n",
    "enrollment_changes =[]\n",
    "enrollment_diff=''\n",
    "\n",
    "for index, row in localdistrictsloop.iterrows():\n",
    "    if index != 0:\n",
    "        if school_id == row['NCES ID']:\n",
    "            enrollment_diff = localdistrictsloop.loc[index, 'Student Count'] - localdistrictsloop.loc[int(index)-1, 'Student Count']\n",
    "        else:\n",
    "            enrollment_diff = 'NA'\n",
    "    else:\n",
    "        enrollment_diff = 'NA'\n",
    "        \n",
    "    school_id=row['NCES ID']\n",
    "    enrollment_changes.append(enrollment_diff)\n",
    "    print(index)\n",
    "    print(enrollment_changes)\n",
    "    print(enrollment_diff)"
   ]
  },
  {
   "cell_type": "code",
   "execution_count": null,
   "id": "1f765ab4",
   "metadata": {},
   "outputs": [],
   "source": [
    "localdistrictsloop['Enrollment Change'] = enrollment_changes\n",
    "localdistrictsloop.tail(20)"
   ]
  },
  {
   "cell_type": "code",
   "execution_count": null,
   "id": "e3200f54",
   "metadata": {},
   "outputs": [],
   "source": [
    "localdistrictsloop['Enrollment Change'] = pd.to_numeric(localdistrictsloop['Enrollment Change'], errors='coerce')"
   ]
  },
  {
   "cell_type": "code",
   "execution_count": null,
   "id": "d2ab59f1",
   "metadata": {
    "scrolled": false
   },
   "outputs": [],
   "source": [
    "localdistrictsloop.info()"
   ]
  },
  {
   "cell_type": "code",
   "execution_count": null,
   "id": "cc787d3f",
   "metadata": {},
   "outputs": [],
   "source": [
    "localdistrictsloop.to_csv('enrollment_changes.csv')"
   ]
  },
  {
   "cell_type": "markdown",
   "id": "6137b18f",
   "metadata": {},
   "source": [
    "## Additional EDA\n",
    "Based on enrollment change details"
   ]
  },
  {
   "cell_type": "code",
   "execution_count": null,
   "id": "6b3f0552",
   "metadata": {},
   "outputs": [],
   "source": [
    "enrollmentchanges = pd.read_csv('../data/enrollment_changes.csv')"
   ]
  },
  {
   "cell_type": "code",
   "execution_count": null,
   "id": "49a4b001",
   "metadata": {},
   "outputs": [],
   "source": [
    "enrollmentchanges.head()"
   ]
  },
  {
   "cell_type": "code",
   "execution_count": null,
   "id": "a39bec18",
   "metadata": {},
   "outputs": [],
   "source": [
    "pd.pivot_table(localdistrictsloop, 'Agency Name', index=['Enrollment Change'], columns=['Year'], aggfunc=np.sum)"
   ]
  },
  {
   "cell_type": "code",
   "execution_count": null,
   "id": "9dbbff41",
   "metadata": {},
   "outputs": [],
   "source": [
    "netchange = enrollmentchanges.groupby(['State Name', 'Agency Name'])['Enrollment Change'].sum().reset_index()\n",
    "netchange.head()\n",
    "#enrollment change in this instance actually reflects a sum of the enrollment changes for all years a school district reported student counts"
   ]
  },
  {
   "cell_type": "code",
   "execution_count": null,
   "id": "e9cc205d",
   "metadata": {},
   "outputs": [],
   "source": [
    "type(netchange)"
   ]
  },
  {
   "cell_type": "code",
   "execution_count": null,
   "id": "4333c77a",
   "metadata": {
    "scrolled": true
   },
   "outputs": [],
   "source": [
    "netchange.columns = ['State Name', 'Agency Name', 'Net Enrollment Change']\n",
    "netchange.head()"
   ]
  },
  {
   "cell_type": "code",
   "execution_count": null,
   "id": "081794ec",
   "metadata": {
    "scrolled": false
   },
   "outputs": [],
   "source": [
    "netchange.nlargest(25, \"Net Enrollment Change\")"
   ]
  },
  {
   "cell_type": "code",
   "execution_count": null,
   "id": "2a43f145",
   "metadata": {},
   "outputs": [],
   "source": [
    "netchange.nsmallest(25, \"Net Enrollment Change\")"
   ]
  },
  {
   "cell_type": "code",
   "execution_count": null,
   "id": "2a592836",
   "metadata": {
    "scrolled": false
   },
   "outputs": [],
   "source": [
    "#localdistrictsloop['Net Enrollment Change'] = (localdistrictsloop.groupby(['State Name', 'Agency Name'])['Enrollment Change'].sum().reset_index())\n",
    "#localdistrictsloop.head()"
   ]
  },
  {
   "cell_type": "code",
   "execution_count": null,
   "id": "54b3aec5",
   "metadata": {},
   "outputs": [],
   "source": [
    "localdistrictsloop.shape"
   ]
  },
  {
   "cell_type": "code",
   "execution_count": null,
   "id": "41229fa3",
   "metadata": {},
   "outputs": [],
   "source": [
    "localdistrictsloop.tail(5)"
   ]
  },
  {
   "cell_type": "code",
   "execution_count": null,
   "id": "9ebc8635",
   "metadata": {},
   "outputs": [],
   "source": [
    "localdistrictsloop = localdistrictsloop.drop(\"level_0\", axis=1)\n",
    "localdistrictsloop.tail()"
   ]
  },
  {
   "cell_type": "code",
   "execution_count": null,
   "id": "0eda0d0b",
   "metadata": {},
   "outputs": [],
   "source": [
    "localdistrictsloop = localdistrictsloop.drop(\"index\", axis=1)\n",
    "localdistrictsloop.tail()"
   ]
  },
  {
   "cell_type": "code",
   "execution_count": null,
   "id": "ed626d89",
   "metadata": {},
   "outputs": [],
   "source": [
    "# school_num=localdistrictsloop['NCES ID'][0]\n",
    "# enrollment_sum=[]\n",
    "# enrollment_net=''\n",
    "\n",
    "# for index, row in localdistrictsloop.iterrows():\n",
    "#     if index != 0:\n",
    "#         if school_num == row['NCES ID']:\n",
    "#             enrollment_net = localdistrictsloop.loc[index, 'Enrollment Change'] + localdistrictsloop.loc[index+1, 'Enrollment Change'] + localdistrictsloop.loc[index+2, 'Enrollment Change'] + localdistrictsloop.loc[index+3, 'Enrollment Change'] + localdistrictsloop.loc[index+4, 'Enrollment Change'] + localdistrictsloop.loc[index+5, 'Enrollment Change'] + localdistrictsloop.loc[index+6, 'Enrollment Change'] + localdistrictsloop.loc[index+7, 'Enrollment Change']\n",
    "#         else:\n",
    "#             enrollment_net = 'NA'\n",
    "#     else:\n",
    "#         enrollment_net = 'NA'\n",
    "    \n",
    "#     school_num=row['NCES ID']\n",
    "#     enrollment_sum.append(enrollment_net)\n",
    "#     print(index)\n",
    "#     print(enrollment_net)\n",
    "    \n",
    "#was not successful - will look for other methods to determine net enrollment changes across all years"
   ]
  },
  {
   "cell_type": "code",
   "execution_count": null,
   "id": "a6ef8e93",
   "metadata": {},
   "outputs": [],
   "source": [
    "# localdistrictsloop['Net Enrollment Change'] = pd.Series(enrollment_sum)\n",
    "# localdistrictsloop.tail(20)"
   ]
  },
  {
   "cell_type": "code",
   "execution_count": null,
   "id": "57df25fd",
   "metadata": {},
   "outputs": [],
   "source": []
  }
 ],
 "metadata": {
  "kernelspec": {
   "display_name": "Python 3 (ipykernel)",
   "language": "python",
   "name": "python3"
  },
  "language_info": {
   "codemirror_mode": {
    "name": "ipython",
    "version": 3
   },
   "file_extension": ".py",
   "mimetype": "text/x-python",
   "name": "python",
   "nbconvert_exporter": "python",
   "pygments_lexer": "ipython3",
   "version": "3.9.7"
  }
 },
 "nbformat": 4,
 "nbformat_minor": 5
}
