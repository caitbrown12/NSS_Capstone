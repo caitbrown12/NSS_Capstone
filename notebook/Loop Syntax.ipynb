{
 "cells": [
  {
   "cell_type": "code",
   "execution_count": null,
   "id": "b17c6271",
   "metadata": {},
   "outputs": [],
   "source": [
    "school_id=enrollments['NCES ID'][0]\n",
    "enrollment_changes =[]\n",
    "enrollment_diff=''\n",
    "\n",
    "for index, row in enrollments.iterrows():\n",
    "    if index != 0:\n",
    "        if school_id == row['NCES ID']:\n",
    "            enrollment_diff = enrollments.loc[index, 'Student Count'] - enrollments.loc[int(index)-1, 'Student Count']\n",
    "        else:\n",
    "            enrollment_diff = 'NA'\n",
    "    else:\n",
    "        enrollment_diff = 'NA'\n",
    "        \n",
    "    school_id=row['NCES ID']\n",
    "    enrollment_changes.append(enrollment_diff)\n",
    "    print(enrollment_changes)\n",
    "    print(enrollment_diff)"
   ]
  },
  {
   "cell_type": "code",
   "execution_count": null,
   "id": "08d34f51",
   "metadata": {},
   "outputs": [],
   "source": [
    "enrollments['Enrollment Change'] = enrollment_changes"
   ]
  },
  {
   "cell_type": "code",
   "execution_count": null,
   "id": "96f2f067",
   "metadata": {},
   "outputs": [],
   "source": [
    "enrollments.head(20)"
   ]
  }
 ],
 "metadata": {
  "kernelspec": {
   "display_name": "Python 3 (ipykernel)",
   "language": "python",
   "name": "python3"
  },
  "language_info": {
   "codemirror_mode": {
    "name": "ipython",
    "version": 3
   },
   "file_extension": ".py",
   "mimetype": "text/x-python",
   "name": "python",
   "nbconvert_exporter": "python",
   "pygments_lexer": "ipython3",
   "version": "3.9.7"
  }
 },
 "nbformat": 4,
 "nbformat_minor": 5
}
