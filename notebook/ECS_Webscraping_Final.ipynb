{
 "cells": [
  {
   "cell_type": "markdown",
   "id": "b9affca8",
   "metadata": {},
   "source": [
    "# Read in HTML from ECS website"
   ]
  },
  {
   "cell_type": "code",
   "execution_count": null,
   "id": "d710b5a7",
   "metadata": {},
   "outputs": [],
   "source": [
    "import pandas as pd\n",
    "import html5lib\n",
    "url = 'https://reports.ecs.org/comparisons/k-12-and-special-education-funding-2021'\n",
    "ecsw = pd.read_html(url)\n",
    "ecs = pd.concat(ecsw)\n",
    "ecs\n",
    "#https://stackoverflow.com/questions/39710903/pd-read-html-imports-a-list-rather-than-a-dataframe"
   ]
  },
  {
   "cell_type": "code",
   "execution_count": null,
   "id": "b365e224",
   "metadata": {},
   "outputs": [],
   "source": [
    "ecs = ecs.rename(columns = {'STATE  arrow_upward' : 'State', 'Source' : 'Base Amount Legal Source', 'Source.1' : 'Student Count Method Source', 'Source.2' : 'Special Education Funding Source', 'Source.3' : 'ELL Amount Source', 'Source.4' : 'Low-Income Funding Source', 'Source.5' : 'Gifted Funding Source', 'Source.6' : 'Small Size Identifier Source'})\n",
    "ecs"
   ]
  },
  {
   "cell_type": "code",
   "execution_count": null,
   "id": "2e20caa8",
   "metadata": {
    "scrolled": true
   },
   "outputs": [],
   "source": [
    "ecs.info()"
   ]
  },
  {
   "cell_type": "markdown",
   "id": "c3c83312",
   "metadata": {},
   "source": [
    "# Additional DataFrames"
   ]
  },
  {
   "cell_type": "markdown",
   "id": "e9c21e38",
   "metadata": {},
   "source": [
    "1. Funding Model: sbfdn(student-based foundation), rbased (resource-based), hybrid, gtbase (guaranteed tax base)\n",
    "\n",
    "2. Base Amount: baseamt (base amount) and nbaseamt (no base amount)\n",
    "\n",
    "3. Census Region: northeast, midwest, south, west (https://www2.census.gov/geo/pdfs/maps-data/maps/reference/us_regdiv.pdf)\n",
    "\n",
    "4. 2020 Presidential Election: dem, repub, battleground (https://ballotpedia.org/Presidential_battleground_states,_2020) (https://www.archives.gov/electoral-college/2020) *states that split electoral votes will be assigned to the party that received the majority\n",
    "\n",
    "5. Mask requirements in schools - may be harder to track due to changes over time?\n",
    "\n",
    "6. Low income designations/distributions to look at e-rate funding potential (if time allows)"
   ]
  },
  {
   "cell_type": "code",
   "execution_count": null,
   "id": "67e6f7c8",
   "metadata": {},
   "outputs": [],
   "source": [
    "#sending to csv to create columns with some of the information listed above - should provide greater flexibility in looking at correlations and other EDA\n",
    "#ecs_table.to_csv('ecs_table.csv')"
   ]
  },
  {
   "cell_type": "code",
   "execution_count": null,
   "id": "eeb3152e",
   "metadata": {},
   "outputs": [],
   "source": [
    "ecs.head()"
   ]
  },
  {
   "cell_type": "code",
   "execution_count": null,
   "id": "e38a8303",
   "metadata": {
    "scrolled": true
   },
   "outputs": [],
   "source": [
    "ecs['State'] = ecs['State'].str.upper()\n",
    "ecs.head()"
   ]
  },
  {
   "cell_type": "code",
   "execution_count": null,
   "id": "cd73095d",
   "metadata": {},
   "outputs": [],
   "source": [
    "#ecs.to_csv(\"../data/ecs_updated.csv\")"
   ]
  },
  {
   "cell_type": "code",
   "execution_count": null,
   "id": "aa2319b5",
   "metadata": {
    "scrolled": true
   },
   "outputs": [],
   "source": [
    "ecs = pd.read_csv(\"../data/ecs_table.csv\", nrows=51)\n",
    "#ecs.tail()\n",
    "#trimmed final row with column totals"
   ]
  },
  {
   "cell_type": "code",
   "execution_count": null,
   "id": "734dbeb9",
   "metadata": {
    "scrolled": true
   },
   "outputs": [],
   "source": [
    "sbfdn = ecs.loc[ecs['Primary Funding Model'] == 'Student-based foundation']\n",
    "#sbfdn.head()"
   ]
  },
  {
   "cell_type": "code",
   "execution_count": null,
   "id": "4fab61d3",
   "metadata": {
    "scrolled": true
   },
   "outputs": [],
   "source": [
    "rbased = ecs.loc[ecs['Primary Funding Model'] == 'Resource-based allocation']\n",
    "#rbased.head()"
   ]
  },
  {
   "cell_type": "code",
   "execution_count": null,
   "id": "4c4d6b8b",
   "metadata": {
    "scrolled": true
   },
   "outputs": [],
   "source": [
    "hybrid = ecs.loc[ecs['Primary Funding Model'] == 'Hybrid']\n",
    "#hybrid.head()"
   ]
  },
  {
   "cell_type": "code",
   "execution_count": null,
   "id": "6f1805c5",
   "metadata": {
    "scrolled": true
   },
   "outputs": [],
   "source": [
    "gtbase = ecs.loc[ecs['Primary Funding Model'] == 'Guaranteed tax base']\n",
    "#gtbase.head()"
   ]
  },
  {
   "cell_type": "code",
   "execution_count": null,
   "id": "18ae9f29",
   "metadata": {
    "scrolled": true
   },
   "outputs": [],
   "source": [
    "baseamt = ecs.loc[ecs['Base Amount (Y/N)'] == 'Yes']\n",
    "#baseamt.head()"
   ]
  },
  {
   "cell_type": "code",
   "execution_count": null,
   "id": "0065b898",
   "metadata": {
    "scrolled": true
   },
   "outputs": [],
   "source": [
    "nbaseamt = ecs.loc[ecs['Base Amount (Y/N)'] == 'No']\n",
    "#nbaseamt.head()"
   ]
  },
  {
   "cell_type": "code",
   "execution_count": null,
   "id": "07b2fc66",
   "metadata": {
    "scrolled": true
   },
   "outputs": [],
   "source": [
    "northeast = ecs.loc[ecs['Census Region'] == 'Northeast']\n",
    "#northeast.head()"
   ]
  },
  {
   "cell_type": "code",
   "execution_count": null,
   "id": "3c05b4c6",
   "metadata": {},
   "outputs": [],
   "source": [
    "midwest = ecs.loc[ecs['Census Region'] == 'Midwest']\n",
    "#midwest.head()"
   ]
  },
  {
   "cell_type": "code",
   "execution_count": null,
   "id": "02eb2d17",
   "metadata": {
    "scrolled": true
   },
   "outputs": [],
   "source": [
    "south = ecs.loc[ecs['Census Region'] == 'South']\n",
    "#south.head()"
   ]
  },
  {
   "cell_type": "code",
   "execution_count": null,
   "id": "5dc60012",
   "metadata": {
    "scrolled": true
   },
   "outputs": [],
   "source": [
    "west = ecs.loc[ecs['Census Region'] == 'West']\n",
    "#west.head()"
   ]
  },
  {
   "cell_type": "code",
   "execution_count": null,
   "id": "84a724e1",
   "metadata": {
    "scrolled": true
   },
   "outputs": [],
   "source": [
    "republican = ecs.loc[ecs['2020 Election Result'] == 'Republican']\n",
    "#republican.head()"
   ]
  },
  {
   "cell_type": "code",
   "execution_count": null,
   "id": "f9b0cc48",
   "metadata": {
    "scrolled": true
   },
   "outputs": [],
   "source": [
    "democrat = ecs.loc[ecs['2020 Election Result'] == 'Democrat']\n",
    "#democrat.head()"
   ]
  },
  {
   "cell_type": "code",
   "execution_count": null,
   "id": "01c506aa",
   "metadata": {
    "scrolled": true
   },
   "outputs": [],
   "source": [
    "batlgrnd = ecs.loc[ecs['2020 Battleground State'] == 'Yes']\n",
    "#batlgrnd.head()"
   ]
  },
  {
   "cell_type": "code",
   "execution_count": null,
   "id": "c5d818cc",
   "metadata": {},
   "outputs": [],
   "source": [
    "nbatlgrnd = ecs.loc[ecs['2020 Battleground State'] == 'No']\n",
    "#nbatlgrnd.head()"
   ]
  },
  {
   "cell_type": "markdown",
   "id": "634fb9c0",
   "metadata": {},
   "source": [
    "# General EDA"
   ]
  },
  {
   "cell_type": "code",
   "execution_count": null,
   "id": "c1ff2941",
   "metadata": {},
   "outputs": [],
   "source": [
    "(ecs['Primary Funding Model'].value_counts(normalize=True))*100"
   ]
  },
  {
   "cell_type": "code",
   "execution_count": null,
   "id": "2f66765e",
   "metadata": {},
   "outputs": [],
   "source": [
    "ecs['Primary Funding Model'].value_counts()"
   ]
  },
  {
   "cell_type": "code",
   "execution_count": null,
   "id": "2883496b",
   "metadata": {},
   "outputs": [],
   "source": [
    "#ecs.groupby('Primary Funding Model')['State'].value_counts()\n",
    "#display is terrible - need to look into spacing issues or other ways to represent the information in a format that is easier to read"
   ]
  },
  {
   "cell_type": "code",
   "execution_count": null,
   "id": "673e3309",
   "metadata": {},
   "outputs": [],
   "source": [
    "ecs.groupby('Census Region')['Primary Funding Model'].value_counts()"
   ]
  },
  {
   "cell_type": "code",
   "execution_count": null,
   "id": "bdc48b9d",
   "metadata": {},
   "outputs": [],
   "source": [
    "(ecs.groupby('Census Region')['Primary Funding Model'].value_counts(normalize=True))*100"
   ]
  },
  {
   "cell_type": "code",
   "execution_count": null,
   "id": "af887ab3",
   "metadata": {},
   "outputs": [],
   "source": [
    "baseamt.sort_values(by='Base Amount', ascending=False)"
   ]
  },
  {
   "cell_type": "code",
   "execution_count": null,
   "id": "214bd0d8",
   "metadata": {},
   "outputs": [],
   "source": [
    "baseamt.groupby('Base Amount')['State'].value_counts()"
   ]
  },
  {
   "cell_type": "code",
   "execution_count": null,
   "id": "192c1f04",
   "metadata": {},
   "outputs": [],
   "source": []
  }
 ],
 "metadata": {
  "kernelspec": {
   "display_name": "Python 3 (ipykernel)",
   "language": "python",
   "name": "python3"
  },
  "language_info": {
   "codemirror_mode": {
    "name": "ipython",
    "version": 3
   },
   "file_extension": ".py",
   "mimetype": "text/x-python",
   "name": "python",
   "nbconvert_exporter": "python",
   "pygments_lexer": "ipython3",
   "version": "3.9.7"
  }
 },
 "nbformat": 4,
 "nbformat_minor": 5
}
