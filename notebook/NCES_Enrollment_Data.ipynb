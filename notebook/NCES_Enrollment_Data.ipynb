{
 "cells": [
  {
   "cell_type": "markdown",
   "id": "daef3ffb",
   "metadata": {},
   "source": [
    "# Read in CSVs based on NCES Tables"
   ]
  },
  {
   "cell_type": "code",
   "execution_count": 1,
   "id": "01aaa0fd",
   "metadata": {},
   "outputs": [],
   "source": [
    "import pandas as pd\n",
    "import numpy as np\n",
    "import matplotlib.pyplot as plt\n",
    "import seaborn as sns\n",
    "%matplotlib inline\n",
    "import re\n",
    "from ipywidgets import interactive\n",
    "pd.set_option('display.max_columns', 500)"
   ]
  },
  {
   "cell_type": "markdown",
   "id": "3c52ce04",
   "metadata": {},
   "source": [
    "ELSI Table Generator - https://nces.ed.gov/ccd/elsi/tableGenerator.aspx?savedTableID=357855\n",
    "\n",
    "Select a Table Row - District\n",
    "\n",
    "Select Years - 13-14, 14-15, 15-16, 16-17, 17-18, 18-19, 19-20, 20-21\n",
    "\n",
    "Select Table Columns - Information (7), Characteristics (4), Enrollments (1), Teachers & Staff (3)\n",
    "\n",
    "Select Filters (Refinements) - All 50 States + DC"
   ]
  },
  {
   "cell_type": "code",
   "execution_count": 2,
   "id": "b5cd64a0",
   "metadata": {
    "scrolled": true
   },
   "outputs": [],
   "source": [
    "year_1314 = pd.read_csv(\"../data/elsi1314.csv\", skiprows=6, nrows=18609)\n",
    "#year_1314.tail()"
   ]
  },
  {
   "cell_type": "code",
   "execution_count": 3,
   "id": "023150e2",
   "metadata": {},
   "outputs": [],
   "source": [
    "year_1415 = pd.read_csv(\"../data/elsi1415.csv\", skiprows=6, nrows=18620)\n",
    "#year_1415.tail()"
   ]
  },
  {
   "cell_type": "code",
   "execution_count": 4,
   "id": "03d33422",
   "metadata": {},
   "outputs": [],
   "source": [
    "year_1516 = pd.read_csv(\"../data/elsi1516.csv\", skiprows=6, nrows=18678)\n",
    "#year_1516.tail()"
   ]
  },
  {
   "cell_type": "code",
   "execution_count": 5,
   "id": "6d6f2f09",
   "metadata": {},
   "outputs": [],
   "source": [
    "year_1617 = pd.read_csv(\"../data/elsi1617.csv\", skiprows=6, nrows=18468)\n",
    "#year_1617.tail()"
   ]
  },
  {
   "cell_type": "code",
   "execution_count": 6,
   "id": "8fbc5077",
   "metadata": {},
   "outputs": [],
   "source": [
    "year_1718 = pd.read_csv(\"../data/elsi1718.csv\", skiprows=6, nrows=18440)\n",
    "#year_1718.tail()"
   ]
  },
  {
   "cell_type": "code",
   "execution_count": 7,
   "id": "139f7175",
   "metadata": {},
   "outputs": [],
   "source": [
    "year_1819 = pd.read_csv(\"../data/elsi1819.csv\", skiprows=6, nrows=19406)\n",
    "#year_1819.tail()"
   ]
  },
  {
   "cell_type": "code",
   "execution_count": 8,
   "id": "86acbc14",
   "metadata": {},
   "outputs": [],
   "source": [
    "year_1920 = pd.read_csv(\"../data/elsi1920.csv\", skiprows=6, nrows=19534)\n",
    "#year_1920.tail()"
   ]
  },
  {
   "cell_type": "code",
   "execution_count": 9,
   "id": "ea0319f9",
   "metadata": {},
   "outputs": [],
   "source": [
    "year_2021 = pd.read_csv(\"../data/elsi2021.csv\", skiprows=6, nrows=19388)\n",
    "#year_2021.tail()"
   ]
  },
  {
   "cell_type": "code",
   "execution_count": null,
   "id": "2bcebcd4",
   "metadata": {},
   "outputs": [],
   "source": []
  },
  {
   "cell_type": "code",
   "execution_count": null,
   "id": "1796bdea",
   "metadata": {},
   "outputs": [],
   "source": []
  }
 ],
 "metadata": {
  "kernelspec": {
   "display_name": "Python 3 (ipykernel)",
   "language": "python",
   "name": "python3"
  },
  "language_info": {
   "codemirror_mode": {
    "name": "ipython",
    "version": 3
   },
   "file_extension": ".py",
   "mimetype": "text/x-python",
   "name": "python",
   "nbconvert_exporter": "python",
   "pygments_lexer": "ipython3",
   "version": "3.9.7"
  }
 },
 "nbformat": 4,
 "nbformat_minor": 5
}
