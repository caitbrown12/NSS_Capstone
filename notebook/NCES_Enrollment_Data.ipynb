{
 "cells": [
  {
   "cell_type": "markdown",
   "id": "5f3ab95d",
   "metadata": {},
   "source": [
    "# Read in CSVs based on NCES Tables"
   ]
  },
  {
   "cell_type": "code",
   "execution_count": 1,
   "id": "4850a02e",
   "metadata": {},
   "outputs": [],
   "source": [
    "import pandas as pd\n",
    "import numpy as np\n",
    "import matplotlib.pyplot as plt\n",
    "import seaborn as sns\n",
    "%matplotlib inline\n",
    "import re\n",
    "from ipywidgets import interactive\n",
    "pd.set_option('display.max_columns', 500)"
   ]
  },
  {
   "cell_type": "markdown",
   "id": "25e23d77",
   "metadata": {},
   "source": [
    "ELSI Table Generator - https://nces.ed.gov/ccd/elsi/tableGenerator.aspx?savedTableID=357855\n",
    "\n",
    "Select a Table Row - District\n",
    "\n",
    "Select Years - 13-14, 14-15, 15-16, 16-17, 17-18, 18-19, 19-20, 20-21\n",
    "\n",
    "Select Table Columns - Information (7), Characteristics (4), Enrollments (1), Teachers & Staff (3)\n",
    "\n",
    "Select Filters (Refinements) - All 50 States + DC"
   ]
  },
  {
   "cell_type": "code",
   "execution_count": 2,
   "id": "ffc9673c",
   "metadata": {
    "scrolled": true
   },
   "outputs": [],
   "source": [
    "year_1314 = pd.read_csv(\"../data/elsi1314.csv\", skiprows=6, nrows=18609)\n",
    "#year_1314.tail()"
   ]
  },
  {
   "cell_type": "code",
   "execution_count": 3,
   "id": "d46f3cb0",
   "metadata": {},
   "outputs": [],
   "source": [
    "year_1415 = pd.read_csv(\"../data/elsi1415.csv\", skiprows=6, nrows=18620)\n",
    "#year_1415.tail()"
   ]
  },
  {
   "cell_type": "code",
   "execution_count": 4,
   "id": "cdcbd914",
   "metadata": {},
   "outputs": [],
   "source": [
    "year_1516 = pd.read_csv(\"../data/elsi1516.csv\", skiprows=6, nrows=18678)\n",
    "#year_1516.tail()"
   ]
  },
  {
   "cell_type": "code",
   "execution_count": 5,
   "id": "ba9a043d",
   "metadata": {},
   "outputs": [],
   "source": [
    "year_1617 = pd.read_csv(\"../data/elsi1617.csv\", skiprows=6, nrows=18468)\n",
    "#year_1617.tail()"
   ]
  },
  {
   "cell_type": "code",
   "execution_count": 6,
   "id": "83cce0f9",
   "metadata": {},
   "outputs": [],
   "source": [
    "year_1718 = pd.read_csv(\"../data/elsi1718.csv\", skiprows=6, nrows=18440)\n",
    "#year_1718.tail()"
   ]
  },
  {
   "cell_type": "code",
   "execution_count": 7,
   "id": "9a0f4341",
   "metadata": {},
   "outputs": [],
   "source": [
    "year_1819 = pd.read_csv(\"../data/elsi1819.csv\", skiprows=6, nrows=19406)\n",
    "#year_1819.tail()"
   ]
  },
  {
   "cell_type": "code",
   "execution_count": 8,
   "id": "8707f4be",
   "metadata": {},
   "outputs": [],
   "source": [
    "year_1920 = pd.read_csv(\"../data/elsi1920.csv\", skiprows=6, nrows=19534)\n",
    "#year_1920.tail()"
   ]
  },
  {
   "cell_type": "code",
   "execution_count": 9,
   "id": "5d69c1d8",
   "metadata": {},
   "outputs": [],
   "source": [
    "year_2021 = pd.read_csv(\"../data/elsi2021.csv\", skiprows=6, nrows=19388)\n",
    "#year_2021.tail()"
   ]
  },
  {
   "cell_type": "markdown",
   "id": "83a9bfd8",
   "metadata": {},
   "source": [
    "## DataFrame Shape\n",
    "Confirms that each DataFrame has an equivalent number of columns"
   ]
  },
  {
   "cell_type": "code",
   "execution_count": 10,
   "id": "e870d63a",
   "metadata": {},
   "outputs": [],
   "source": [
    "#year_1314.shape"
   ]
  },
  {
   "cell_type": "code",
   "execution_count": 11,
   "id": "d63cf5ec",
   "metadata": {},
   "outputs": [],
   "source": [
    "#year_1415.shape"
   ]
  },
  {
   "cell_type": "code",
   "execution_count": 12,
   "id": "861a201b",
   "metadata": {},
   "outputs": [],
   "source": [
    "#year_1516.shape"
   ]
  },
  {
   "cell_type": "code",
   "execution_count": 13,
   "id": "757c6083",
   "metadata": {},
   "outputs": [],
   "source": [
    "#year_1617.shape"
   ]
  },
  {
   "cell_type": "code",
   "execution_count": 14,
   "id": "c184fd28",
   "metadata": {},
   "outputs": [],
   "source": [
    "#year_1718.shape"
   ]
  },
  {
   "cell_type": "code",
   "execution_count": 15,
   "id": "d617adc9",
   "metadata": {},
   "outputs": [],
   "source": [
    "#year_1819.shape"
   ]
  },
  {
   "cell_type": "code",
   "execution_count": 16,
   "id": "ec9a6526",
   "metadata": {},
   "outputs": [],
   "source": [
    "#year_1920.shape"
   ]
  },
  {
   "cell_type": "code",
   "execution_count": 17,
   "id": "2943d27b",
   "metadata": {},
   "outputs": [],
   "source": [
    "#year_2021.shape"
   ]
  },
  {
   "cell_type": "markdown",
   "id": "214c4a1c",
   "metadata": {},
   "source": [
    "## Adding Year Column\n",
    "By adding a static year column to each DataFrame, the columns can be given generic names in order to be combined later"
   ]
  },
  {
   "cell_type": "code",
   "execution_count": 18,
   "id": "92852c6c",
   "metadata": {},
   "outputs": [],
   "source": [
    "year_1314['Year'] = '2013-2014'\n",
    "#year_1314.head(2)"
   ]
  },
  {
   "cell_type": "code",
   "execution_count": 19,
   "id": "683f0be4",
   "metadata": {},
   "outputs": [],
   "source": [
    "year_1415['Year'] = '2014-2015'\n",
    "#year_1415.head(2)"
   ]
  },
  {
   "cell_type": "code",
   "execution_count": 20,
   "id": "957a15d7",
   "metadata": {},
   "outputs": [],
   "source": [
    "year_1516['Year'] = '2015-2016'\n",
    "#year_1516.head(2)"
   ]
  },
  {
   "cell_type": "code",
   "execution_count": 21,
   "id": "82a38168",
   "metadata": {},
   "outputs": [],
   "source": [
    "year_1617['Year'] = '2016-2017'\n",
    "#year_1617.head(2)"
   ]
  },
  {
   "cell_type": "code",
   "execution_count": 22,
   "id": "9e60107e",
   "metadata": {},
   "outputs": [],
   "source": [
    "year_1718['Year'] = '2017-2018'\n",
    "#year_1718.head(2)"
   ]
  },
  {
   "cell_type": "code",
   "execution_count": 23,
   "id": "434cd3db",
   "metadata": {},
   "outputs": [],
   "source": [
    "year_1819['Year'] = '2018-2019'\n",
    "#year_1819.head(2)"
   ]
  },
  {
   "cell_type": "code",
   "execution_count": 24,
   "id": "c8a3b13c",
   "metadata": {},
   "outputs": [],
   "source": [
    "year_1920['Year'] = '2019-2020'\n",
    "#year_1920.head(2)"
   ]
  },
  {
   "cell_type": "code",
   "execution_count": 25,
   "id": "06f90598",
   "metadata": {},
   "outputs": [],
   "source": [
    "year_2021['Year'] = '2020-2021'\n",
    "#year_2021.head(2)"
   ]
  },
  {
   "cell_type": "markdown",
   "id": "545ceec4",
   "metadata": {},
   "source": [
    "## Standardizing Column Names\n",
    "Each annual DataFrame will have the same columns. Based on the number of nulls in each, either the State Name or State column will be dropped. State Name is derived from the 'last year available' data and State is derived from the selected year."
   ]
  },
  {
   "cell_type": "code",
   "execution_count": 26,
   "id": "f3557979",
   "metadata": {},
   "outputs": [],
   "source": [
    "year_1314.columns = ['Agency Name', 'State Name', 'State Abbreviation', 'NCES ID', 'State', 'District', 'County', 'School Count', 'ZIP Code', 'District Type', 'Locale', 'Start of Year Status', 'Student Count', 'FTE Teachers', 'Pupil/Teacher Ratio', 'Total Staff', 'Year']\n",
    "#year_1314.head(2)"
   ]
  },
  {
   "cell_type": "code",
   "execution_count": 27,
   "id": "95985b04",
   "metadata": {},
   "outputs": [],
   "source": [
    "year_1415.columns = ['Agency Name', 'State Name', 'State Abbreviation', 'NCES ID', 'State', 'District', 'County', 'School Count', 'ZIP Code', 'District Type', 'Locale', 'Start of Year Status', 'Updated Status', 'Student Count', 'FTE Teachers', 'Pupil/Teacher Ratio', 'Total Staff', 'Year']\n",
    "#year_1415.head(2)"
   ]
  },
  {
   "cell_type": "code",
   "execution_count": 28,
   "id": "3c78f34e",
   "metadata": {},
   "outputs": [],
   "source": [
    "year_1516.columns = ['Agency Name', 'State Name', 'State Abbreviation', 'NCES ID', 'State', 'District', 'County', 'School Count', 'ZIP Code', 'District Type', 'Locale', 'Start of Year Status', 'Updated Status', 'Student Count', 'FTE Teachers', 'Pupil/Teacher Ratio', 'Total Staff', 'Year']\n",
    "#year_1516.head(2)"
   ]
  },
  {
   "cell_type": "code",
   "execution_count": 29,
   "id": "afbf544c",
   "metadata": {},
   "outputs": [],
   "source": [
    "year_1617.columns = ['Agency Name', 'State Name', 'State Abbreviation', 'NCES ID', 'State', 'District', 'County', 'School Count', 'ZIP Code', 'District Type', 'Locale', 'Start of Year Status', 'Updated Status', 'Student Count', 'FTE Teachers', 'Pupil/Teacher Ratio', 'Total Staff', 'Year']\n",
    "#year_1617.head(2)"
   ]
  },
  {
   "cell_type": "code",
   "execution_count": 30,
   "id": "1a19c1aa",
   "metadata": {},
   "outputs": [],
   "source": [
    "year_1718.columns = ['Agency Name', 'State Name', 'State Abbreviation', 'NCES ID', 'State', 'District', 'County', 'School Count', 'ZIP Code', 'District Type', 'Locale', 'Start of Year Status', 'Updated Status', 'Student Count', 'FTE Teachers', 'Pupil/Teacher Ratio', 'Total Staff', 'Year']\n",
    "#year_1718.head(2)"
   ]
  },
  {
   "cell_type": "code",
   "execution_count": 31,
   "id": "77047a98",
   "metadata": {},
   "outputs": [],
   "source": [
    "year_1819.columns = ['Agency Name', 'State Name', 'State Abbreviation', 'NCES ID', 'State', 'District', 'County', 'School Count', 'ZIP Code', 'District Type', 'Locale', 'Start of Year Status', 'Updated Status', 'Student Count', 'FTE Teachers', 'Pupil/Teacher Ratio', 'Total Staff', 'Year']\n",
    "#year_1819.head(2)"
   ]
  },
  {
   "cell_type": "code",
   "execution_count": 32,
   "id": "14b61931",
   "metadata": {},
   "outputs": [],
   "source": [
    "year_1920.columns = ['Agency Name', 'State Name', 'State Abbreviation', 'NCES ID', 'State', 'District', 'County', 'School Count', 'ZIP Code', 'District Type', 'Locale', 'Start of Year Status', 'Updated Status', 'Student Count', 'FTE Teachers', 'Pupil/Teacher Ratio', 'Total Staff', 'Year']\n",
    "#year_1920.head(2)"
   ]
  },
  {
   "cell_type": "code",
   "execution_count": 33,
   "id": "bfc1042e",
   "metadata": {
    "scrolled": false
   },
   "outputs": [],
   "source": [
    "year_2021.columns = ['Agency Name', 'State Name', 'State Abbreviation', 'NCES ID', 'State', 'District', 'County', 'School Count', 'ZIP Code', 'District Type', 'Locale', 'Start of Year Status', 'Updated Status', 'Student Count', 'FTE Teachers', 'Pupil/Teacher Ratio', 'Total Staff', 'Year']\n",
    "#year_2021.head(2)"
   ]
  },
  {
   "cell_type": "markdown",
   "id": "49649e8f",
   "metadata": {},
   "source": [
    "## pd.Concat & df.reindex"
   ]
  },
  {
   "cell_type": "code",
   "execution_count": 34,
   "id": "d478a341",
   "metadata": {},
   "outputs": [],
   "source": [
    "enrollments = pd.concat([year_1314, year_1415, year_1516, year_1617, year_1718, year_1819, year_1920, year_2021], axis=0)\n",
    "#enrollments.tail()"
   ]
  },
  {
   "cell_type": "code",
   "execution_count": 35,
   "id": "cad2c57f",
   "metadata": {},
   "outputs": [],
   "source": [
    "enrollments = enrollments.reindex(columns = ['Agency Name', 'State Name', 'State Abbreviation', 'NCES ID', 'State', 'District', 'County', 'School Count', 'ZIP Code', 'District Type', 'Locale', 'Start of Year Status', 'Updated Status', 'Student Count', 'FTE Teachers', 'Pupil/Teacher Ratio', 'Total Staff', 'Year'])\n",
    "#enrollments.head()"
   ]
  },
  {
   "cell_type": "code",
   "execution_count": null,
   "id": "88acfacb",
   "metadata": {},
   "outputs": [],
   "source": []
  }
 ],
 "metadata": {
  "kernelspec": {
   "display_name": "Python 3 (ipykernel)",
   "language": "python",
   "name": "python3"
  },
  "language_info": {
   "codemirror_mode": {
    "name": "ipython",
    "version": 3
   },
   "file_extension": ".py",
   "mimetype": "text/x-python",
   "name": "python",
   "nbconvert_exporter": "python",
   "pygments_lexer": "ipython3",
   "version": "3.9.7"
  }
 },
 "nbformat": 4,
 "nbformat_minor": 5
}
