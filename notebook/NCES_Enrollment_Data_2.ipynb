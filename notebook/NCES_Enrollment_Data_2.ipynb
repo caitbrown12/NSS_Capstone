{
 "cells": [
  {
   "cell_type": "code",
   "execution_count": null,
   "id": "93230af7",
   "metadata": {},
   "outputs": [],
   "source": [
    "import pandas as pd\n",
    "import numpy as np\n",
    "import matplotlib.pyplot as plt\n",
    "import seaborn as sns\n",
    "%matplotlib inline\n",
    "import re\n",
    "from ipywidgets import interactive\n",
    "pd.set_option('display.max_columns', None)\n",
    "pd.set_option('display.max_rows', None)\n",
    "pd.set_option('display.float_format', lambda x: '%.2f' %x)"
   ]
  },
  {
   "cell_type": "markdown",
   "id": "0a34088f",
   "metadata": {},
   "source": [
    "## Reading CSVs\n",
    "#### Do NOT run again\n",
    "~ ecs_updated (becomes ecs) - includes funding details for all 50 states + DC (needs to be merged on State)\n",
    "\n",
    "~ enrollment_changes (becomes enrollments) - includes calculations for annual enrollment changes by NCES ID (filtered to local districts not affiliated with a supervisory union only and only includes columns needed for the loop or for merging, can be merged on State with ECS data or on NCES ID for other sources)\n",
    "\n",
    "~ localdistricts (becomes localdistricts) - does not include enrollment change calculations, but does still include columns for locale, ZIP code, FTE count, pupil/teacher ratio, and year (can be merged on NCES ID or State depending on the need, shape aligns exactly to enrollment_changes)\n",
    "\n",
    "~ enrollmentsdf (becomes fullnces) - primary dataframe until the loop; contains all columns and rows so it may ultimately prove to need more cleaning and restructuring than is helpful (can be merged by state or NCES ID)"
   ]
  },
  {
   "cell_type": "code",
   "execution_count": null,
   "id": "522de3b5",
   "metadata": {},
   "outputs": [],
   "source": [
    "ecs = pd.read_csv(\"../data/ecs_updated.csv\")\n",
    "ecs.head(3)"
   ]
  },
  {
   "cell_type": "code",
   "execution_count": null,
   "id": "9894423e",
   "metadata": {},
   "outputs": [],
   "source": [
    "enrollments = pd.read_csv(\"../data/enrollment_changes.csv\")\n",
    "enrollments.head(3)"
   ]
  },
  {
   "cell_type": "code",
   "execution_count": null,
   "id": "8cfe3d2e",
   "metadata": {},
   "outputs": [],
   "source": [
    "localdistricts = pd.read_csv(\"../data/localdistricts.csv\")\n",
    "localdistricts.head(3)"
   ]
  },
  {
   "cell_type": "code",
   "execution_count": null,
   "id": "aa6c46db",
   "metadata": {},
   "outputs": [],
   "source": [
    "#unlikely to use, but here for reference as needed\n",
    "fullnces = pd.read_csv(\"../data/enrollmentsdf.csv\")\n",
    "fullnces.head(3)"
   ]
  },
  {
   "cell_type": "code",
   "execution_count": null,
   "id": "64f9b499",
   "metadata": {
    "scrolled": true
   },
   "outputs": [],
   "source": [
    "netchangedist = enrollments.groupby(['State Name', 'Agency Name', 'NCES ID'])['Enrollment Change'].sum().reset_index()\n",
    "netchangedist.head()"
   ]
  },
  {
   "cell_type": "markdown",
   "id": "c6ae9761",
   "metadata": {},
   "source": [
    "## Cleaning & Standardizing DataFrames\n",
    "#### Do NOT run again"
   ]
  },
  {
   "cell_type": "code",
   "execution_count": null,
   "id": "ea91004c",
   "metadata": {
    "scrolled": true
   },
   "outputs": [],
   "source": [
    "ecs = ecs.drop(\"Unnamed: 0\", axis=1)\n",
    "ecs.head(2)"
   ]
  },
  {
   "cell_type": "code",
   "execution_count": null,
   "id": "6345202d",
   "metadata": {
    "scrolled": true
   },
   "outputs": [],
   "source": [
    "ecs.rename(columns={'State':'State Name'}, inplace=True)\n",
    "ecs.head(1)"
   ]
  },
  {
   "cell_type": "code",
   "execution_count": null,
   "id": "6eb6188c",
   "metadata": {},
   "outputs": [],
   "source": [
    "enrollments = enrollments.drop(\"Unnamed: 0\", axis=1)\n",
    "enrollments.head(2)"
   ]
  },
  {
   "cell_type": "code",
   "execution_count": null,
   "id": "049b428d",
   "metadata": {
    "scrolled": true
   },
   "outputs": [],
   "source": [
    "netchangedist.rename(columns={'Enrollment Change':'Net Enrollment Change'}, inplace=True)\n",
    "netchangedist.head(2)"
   ]
  },
  {
   "cell_type": "markdown",
   "id": "8d330fdc",
   "metadata": {},
   "source": [
    "## Merging DataFrames\n",
    "#### Do NOT run again\n",
    "Will also include dropping duplicate/unnecessary columns, standardizing column names, and reordering columns for efficiency."
   ]
  },
  {
   "cell_type": "code",
   "execution_count": null,
   "id": "eab28027",
   "metadata": {
    "scrolled": true
   },
   "outputs": [],
   "source": [
    "netenrollments = enrollments.merge(netchangedist, on='NCES ID', suffixes=('_nces', '_net'))\n",
    "netenrollments.head(3)"
   ]
  },
  {
   "cell_type": "code",
   "execution_count": null,
   "id": "41359727",
   "metadata": {
    "scrolled": true
   },
   "outputs": [],
   "source": [
    "netenrollments.rename(columns={'Agency Name_nces':'Agency Name', 'State Name_nces':'State Name', 'Enrollment Change_nces':'Annual Enrollment Change', 'Enrollment Change_net':'Net Enrollment Change'}, inplace=True)\n",
    "netenrollments.head(3)"
   ]
  },
  {
   "cell_type": "code",
   "execution_count": null,
   "id": "1c1c606b",
   "metadata": {
    "scrolled": true
   },
   "outputs": [],
   "source": [
    "netenrollments = netenrollments.drop(['State Name_net', 'Agency Name_net'], axis=1)\n",
    "netenrollments.head(3)"
   ]
  },
  {
   "cell_type": "code",
   "execution_count": null,
   "id": "729fad70",
   "metadata": {
    "scrolled": true
   },
   "outputs": [],
   "source": [
    "enrollments.shape"
   ]
  },
  {
   "cell_type": "code",
   "execution_count": null,
   "id": "45c7e880",
   "metadata": {
    "scrolled": true
   },
   "outputs": [],
   "source": [
    "netchangedist.shape"
   ]
  },
  {
   "cell_type": "code",
   "execution_count": null,
   "id": "ad4d7d85",
   "metadata": {
    "scrolled": false
   },
   "outputs": [],
   "source": [
    "netenrollments.shape"
   ]
  },
  {
   "cell_type": "code",
   "execution_count": null,
   "id": "957f7500",
   "metadata": {
    "scrolled": true
   },
   "outputs": [],
   "source": [
    "localdistricts.shape"
   ]
  },
  {
   "cell_type": "code",
   "execution_count": null,
   "id": "70af6942",
   "metadata": {},
   "outputs": [],
   "source": [
    "netandlocal = localdistricts.merge(netenrollments, on=['NCES ID', 'Year'], how='left', suffixes=('_loc', '_net'))\n",
    "netandlocal.shape\n",
    "#dataframes were the same shape - needed left merge rather than outer to avoid 8x duplicates"
   ]
  },
  {
   "cell_type": "code",
   "execution_count": null,
   "id": "78232de7",
   "metadata": {
    "scrolled": true
   },
   "outputs": [],
   "source": [
    "netandlocal.head(3)"
   ]
  },
  {
   "cell_type": "code",
   "execution_count": null,
   "id": "819412b7",
   "metadata": {
    "scrolled": true
   },
   "outputs": [],
   "source": [
    "netandlocal = netandlocal.drop(['Student Count_loc', 'Agency Name', 'District', 'State me'], axis=1)\n",
    "netandlocal.head(3)"
   ]
  },
  {
   "cell_type": "code",
   "execution_count": null,
   "id": "07363ddc",
   "metadata": {
    "scrolled": false
   },
   "outputs": [],
   "source": [
    "netandlocal.rename(columns={'Agency me':'Agency Name', 'State me':'State Name', 'Student Count_net':'Student Count'}, inplace=True)\n",
    "netandlocal.head(3)"
   ]
  },
  {
   "cell_type": "code",
   "execution_count": null,
   "id": "f70addc2",
   "metadata": {
    "scrolled": true
   },
   "outputs": [],
   "source": [
    "netandlocal.shape"
   ]
  },
  {
   "cell_type": "code",
   "execution_count": null,
   "id": "cdba08cf",
   "metadata": {},
   "outputs": [],
   "source": [
    "netfunding = netandlocal.merge(ecs, on='State Name', how='outer', suffixes=('_net', '_ecs'))\n",
    "netfunding.shape"
   ]
  },
  {
   "cell_type": "code",
   "execution_count": null,
   "id": "a9b192ec",
   "metadata": {
    "scrolled": true
   },
   "outputs": [],
   "source": [
    "netfunding.info()\n",
    "#all rows should have a state name given the df shape and non-null count"
   ]
  },
  {
   "cell_type": "code",
   "execution_count": null,
   "id": "10cd1aa1",
   "metadata": {
    "scrolled": true
   },
   "outputs": [],
   "source": [
    "netfunding.head(2)"
   ]
  },
  {
   "cell_type": "code",
   "execution_count": null,
   "id": "4f4513ce",
   "metadata": {},
   "outputs": [],
   "source": [
    "#netfunding.to_csv(\"../data/netfunding.csv\")"
   ]
  },
  {
   "cell_type": "code",
   "execution_count": null,
   "id": "633c96ef",
   "metadata": {},
   "outputs": [],
   "source": [
    "#netandlocal.to_csv(\"../data/netandlocal2.csv\")"
   ]
  },
  {
   "cell_type": "code",
   "execution_count": null,
   "id": "fd5debc1",
   "metadata": {},
   "outputs": [],
   "source": [
    "#netenrollments.to_csv(\"../data/netenrollments.csv\")"
   ]
  },
  {
   "cell_type": "markdown",
   "id": "9cc7ec86",
   "metadata": {},
   "source": [
    "## Additional DataFrames & Cleaning\n",
    "#### Do NOT run again"
   ]
  },
  {
   "cell_type": "code",
   "execution_count": null,
   "id": "c418146c",
   "metadata": {},
   "outputs": [],
   "source": [
    "data = pd.read_csv(\"../data/netfunding.csv\")\n",
    "data.shape"
   ]
  },
  {
   "cell_type": "code",
   "execution_count": null,
   "id": "30fecd71",
   "metadata": {},
   "outputs": [],
   "source": [
    "data.info()"
   ]
  },
  {
   "cell_type": "code",
   "execution_count": null,
   "id": "454ae55e",
   "metadata": {
    "scrolled": true
   },
   "outputs": [],
   "source": [
    "data.head(2)"
   ]
  },
  {
   "cell_type": "code",
   "execution_count": null,
   "id": "9435851f",
   "metadata": {
    "scrolled": true
   },
   "outputs": [],
   "source": [
    "#data = data.drop(['Unnamed: 0'], axis=1)\n",
    "#data.head(1)"
   ]
  },
  {
   "cell_type": "code",
   "execution_count": null,
   "id": "eecf30b5",
   "metadata": {},
   "outputs": [],
   "source": [
    "cols = list(data.columns.values)\n",
    "cols"
   ]
  },
  {
   "cell_type": "code",
   "execution_count": null,
   "id": "1bd38812",
   "metadata": {},
   "outputs": [],
   "source": [
    "cols = ['Agency Name', 'State Name', 'State Abbreviation', 'NCES ID', 'County', 'Student Count', 'Year', 'Enrollment Change', 'Net Enrollment Change', 'School Count', 'ZIP Code', 'District Type', 'Locale', 'Start of Year Status', 'Updated Status', 'FTE Teachers', 'Pupil/Teacher Ratio', 'Total Staff', 'Census Region', '2020 Election Result', '2020 Battleground State', 'Primary Funding Model', 'Model Name', 'Notes', 'Base Amount (Y/N)', 'Base Amount', 'Base Amount Legal Source', 'Student Count Method', 'Student Count Method Source']"
   ]
  },
  {
   "cell_type": "code",
   "execution_count": null,
   "id": "185ebf00",
   "metadata": {
    "scrolled": true
   },
   "outputs": [],
   "source": [
    "data = data[cols]\n",
    "data.head(2)"
   ]
  },
  {
   "cell_type": "code",
   "execution_count": null,
   "id": "e4614824",
   "metadata": {
    "scrolled": true
   },
   "outputs": [],
   "source": [
    "data['NCES ID'] = data['NCES ID'].astype(str).str.replace('.0', '', regex=False)\n",
    "data.head(2)"
   ]
  },
  {
   "cell_type": "code",
   "execution_count": null,
   "id": "1e8cefd7",
   "metadata": {
    "scrolled": true
   },
   "outputs": [],
   "source": [
    "data['Year'] = data['Year'].astype(str).str.replace('.0', '', regex=False)\n",
    "data.head(2)"
   ]
  },
  {
   "cell_type": "code",
   "execution_count": null,
   "id": "dec509ee",
   "metadata": {
    "scrolled": true
   },
   "outputs": [],
   "source": [
    "data['ZIP Code'] = data['ZIP Code'].astype(str).str.replace('.0', '', regex=False)\n",
    "data.head(2)"
   ]
  },
  {
   "cell_type": "code",
   "execution_count": null,
   "id": "6211ad6f",
   "metadata": {},
   "outputs": [],
   "source": [
    "data['Net Enrollment Change'] = data['Net Enrollment Change'].astype(str).str.replace('.0', '', regex=False)\n",
    "data.head(2)"
   ]
  },
  {
   "cell_type": "code",
   "execution_count": null,
   "id": "974c4223",
   "metadata": {},
   "outputs": [],
   "source": [
    "data['Net Enrollment Change'] = pd.to_numeric(data['Net Enrollment Change'], errors='coerce')\n",
    "data['Net Enrollment Change'].dtype"
   ]
  },
  {
   "cell_type": "code",
   "execution_count": null,
   "id": "1d951ae1",
   "metadata": {},
   "outputs": [],
   "source": [
    "data['School Count'] = data['School Count'].astype(str).str.replace('.0', '', regex=False)\n",
    "data.head(2)"
   ]
  },
  {
   "cell_type": "code",
   "execution_count": null,
   "id": "a4682d92",
   "metadata": {},
   "outputs": [],
   "source": [
    "data['School Count'] = pd.to_numeric(data['School Count'], errors='coerce')\n",
    "data['School Count'].dtype"
   ]
  },
  {
   "cell_type": "code",
   "execution_count": null,
   "id": "1d8f2b4f",
   "metadata": {},
   "outputs": [],
   "source": [
    "data['Year'] = pd.to_numeric(data['Year'], errors='coerce')\n",
    "data['Year'].dtype"
   ]
  },
  {
   "cell_type": "code",
   "execution_count": null,
   "id": "0526172d",
   "metadata": {},
   "outputs": [],
   "source": [
    "data['ZIP Code'] = pd.to_numeric(data['ZIP Code'], errors='coerce')\n",
    "data['ZIP Code'].dtype"
   ]
  },
  {
   "cell_type": "code",
   "execution_count": null,
   "id": "bcc2124f",
   "metadata": {},
   "outputs": [],
   "source": [
    "data.info()"
   ]
  },
  {
   "cell_type": "code",
   "execution_count": null,
   "id": "9e072311",
   "metadata": {},
   "outputs": [],
   "source": [
    "data.to_csv(\"../data/capstonedata_2.csv\")\n",
    "#dtypes have been changed and extra columns removed"
   ]
  },
  {
   "cell_type": "markdown",
   "id": "33247d5d",
   "metadata": {},
   "source": [
    "## Import Final CSV & EDA\n",
    "#### Start here after running initial code block"
   ]
  },
  {
   "cell_type": "code",
   "execution_count": null,
   "id": "d7b81158",
   "metadata": {
    "scrolled": true
   },
   "outputs": [],
   "source": [
    "data = pd.read_csv(\"../data/capstonedata_final.csv\", nrows=104923)\n",
    "data.tail()"
   ]
  },
  {
   "cell_type": "code",
   "execution_count": null,
   "id": "cc8e63cd",
   "metadata": {},
   "outputs": [],
   "source": [
    "data.info()"
   ]
  },
  {
   "cell_type": "code",
   "execution_count": null,
   "id": "3224e277",
   "metadata": {},
   "outputs": [],
   "source": [
    "data = data.drop(['Unnamed: 0'], axis=1)\n",
    "data.head(1)"
   ]
  },
  {
   "cell_type": "code",
   "execution_count": null,
   "id": "a2613b8a",
   "metadata": {},
   "outputs": [],
   "source": [
    "data['NCES ID'] = pd.to_numeric(data['NCES ID'], errors='coerce')\n",
    "data['NCES ID'].dtype"
   ]
  },
  {
   "cell_type": "code",
   "execution_count": null,
   "id": "7857d8bb",
   "metadata": {},
   "outputs": [],
   "source": [
    "data['ZIP Code'] = pd.to_numeric(data['ZIP Code'], errors='coerce')\n",
    "data['ZIP Code'].dtype"
   ]
  },
  {
   "cell_type": "code",
   "execution_count": null,
   "id": "3bd328f1",
   "metadata": {
    "scrolled": true
   },
   "outputs": [],
   "source": [
    "data['Year'] = pd.to_numeric(data['Year'], errors='coerce')\n",
    "data['Year'].dtype"
   ]
  },
  {
   "cell_type": "code",
   "execution_count": null,
   "id": "dd602751",
   "metadata": {},
   "outputs": [],
   "source": [
    "data['Annual Budgetary Change'] = data['Enrollment Change'] * data['Base Amount']"
   ]
  },
  {
   "cell_type": "code",
   "execution_count": null,
   "id": "bc184359",
   "metadata": {},
   "outputs": [],
   "source": [
    "data['Net Budgetary Change'] = data['Net Enrollment Change'] * data['Base Amount']"
   ]
  },
  {
   "cell_type": "code",
   "execution_count": null,
   "id": "779df67d",
   "metadata": {},
   "outputs": [],
   "source": [
    "data.head()"
   ]
  },
  {
   "cell_type": "code",
   "execution_count": null,
   "id": "cf507e4b",
   "metadata": {},
   "outputs": [],
   "source": [
    "data['Annual Budgetary Change'].value_counts()"
   ]
  },
  {
   "cell_type": "code",
   "execution_count": null,
   "id": "3039f275",
   "metadata": {},
   "outputs": [],
   "source": [
    "data['Net Budgetary Change'].value_counts()"
   ]
  },
  {
   "cell_type": "code",
   "execution_count": null,
   "id": "9292bd7b",
   "metadata": {},
   "outputs": [],
   "source": [
    "sbfdn = data.loc[data['Primary Funding Model'] == 'Student-based foundation']"
   ]
  },
  {
   "cell_type": "code",
   "execution_count": null,
   "id": "5434c607",
   "metadata": {},
   "outputs": [],
   "source": [
    "rbased = data.loc[data['Primary Funding Model'] == 'Resource-based allocation']"
   ]
  },
  {
   "cell_type": "code",
   "execution_count": null,
   "id": "bccd243f",
   "metadata": {},
   "outputs": [],
   "source": [
    "hybrid = data.loc[data['Primary Funding Model'] == 'Hybrid']"
   ]
  },
  {
   "cell_type": "code",
   "execution_count": null,
   "id": "286562e5",
   "metadata": {},
   "outputs": [],
   "source": [
    "gtbase = data.loc[data['Primary Funding Model'] == 'Guaranteed tax base']"
   ]
  },
  {
   "cell_type": "code",
   "execution_count": null,
   "id": "c8b567a7",
   "metadata": {},
   "outputs": [],
   "source": [
    "baseamt = data.loc[data['Base Amount (Y/N)'] == 'Yes']"
   ]
  },
  {
   "cell_type": "code",
   "execution_count": null,
   "id": "44ad18dc",
   "metadata": {},
   "outputs": [],
   "source": [
    "nbaseamt = data.loc[data['Base Amount (Y/N)'] == 'No']"
   ]
  },
  {
   "cell_type": "code",
   "execution_count": null,
   "id": "149fcc68",
   "metadata": {},
   "outputs": [],
   "source": [
    "northeast = data.loc[data['Census Region'] == 'Northeast']"
   ]
  },
  {
   "cell_type": "code",
   "execution_count": null,
   "id": "0aa139a3",
   "metadata": {},
   "outputs": [],
   "source": [
    "midwest = data.loc[data['Census Region'] == 'Midwest']"
   ]
  },
  {
   "cell_type": "code",
   "execution_count": null,
   "id": "70663ff1",
   "metadata": {},
   "outputs": [],
   "source": [
    "south = data.loc[data['Census Region'] == 'South']"
   ]
  },
  {
   "cell_type": "code",
   "execution_count": null,
   "id": "64937cea",
   "metadata": {},
   "outputs": [],
   "source": [
    "west = data.loc[data['Census Region'] == 'West']"
   ]
  },
  {
   "cell_type": "code",
   "execution_count": null,
   "id": "d1222255",
   "metadata": {},
   "outputs": [],
   "source": [
    "republican = data.loc[data['2020 Election Result'] == 'Republican']"
   ]
  },
  {
   "cell_type": "code",
   "execution_count": null,
   "id": "071a9b5d",
   "metadata": {},
   "outputs": [],
   "source": [
    "democrat = data.loc[data['2020 Election Result'] == 'Democrat']"
   ]
  },
  {
   "cell_type": "code",
   "execution_count": null,
   "id": "3e4ef7d2",
   "metadata": {},
   "outputs": [],
   "source": [
    "batlgrnd = data.loc[data['2020 Battleground State'] == 'Yes']"
   ]
  },
  {
   "cell_type": "code",
   "execution_count": null,
   "id": "aee08af6",
   "metadata": {},
   "outputs": [],
   "source": [
    "nbatlgrnd = data.loc[data['2020 Battleground State'] == 'No']"
   ]
  },
  {
   "cell_type": "code",
   "execution_count": null,
   "id": "bedd889d",
   "metadata": {},
   "outputs": [],
   "source": [
    "year13 = data.loc[data['Year'] == 2013]\n",
    "year13.head()"
   ]
  },
  {
   "cell_type": "code",
   "execution_count": null,
   "id": "47203cd3",
   "metadata": {},
   "outputs": [],
   "source": [
    "year14 = data.loc[data['Year'] == 2014]"
   ]
  },
  {
   "cell_type": "code",
   "execution_count": null,
   "id": "0472d415",
   "metadata": {},
   "outputs": [],
   "source": [
    "year15 = data.loc[data['Year'] == 2015]"
   ]
  },
  {
   "cell_type": "code",
   "execution_count": null,
   "id": "c5fcfbdd",
   "metadata": {},
   "outputs": [],
   "source": [
    "year16 = data.loc[data['Year'] == 2016]"
   ]
  },
  {
   "cell_type": "code",
   "execution_count": null,
   "id": "d90116fe",
   "metadata": {},
   "outputs": [],
   "source": [
    "year17 = data.loc[data['Year'] == 2017]"
   ]
  },
  {
   "cell_type": "code",
   "execution_count": null,
   "id": "d9757569",
   "metadata": {},
   "outputs": [],
   "source": [
    "year18 = data.loc[data['Year'] == 2018]"
   ]
  },
  {
   "cell_type": "code",
   "execution_count": null,
   "id": "fdefca74",
   "metadata": {},
   "outputs": [],
   "source": [
    "year19 = data.loc[data['Year'] == 2019]"
   ]
  },
  {
   "cell_type": "code",
   "execution_count": null,
   "id": "bdb7c776",
   "metadata": {},
   "outputs": [],
   "source": [
    "year20 = data.loc[data['Year'] == 2020]"
   ]
  },
  {
   "cell_type": "code",
   "execution_count": null,
   "id": "8ec36990",
   "metadata": {},
   "outputs": [],
   "source": [
    "top25g1 = data.nlargest(200, \"Net Enrollment Change\", keep='last')\n",
    "top25g1\n",
    "#running with 200 because variable numbers within each row keep them from being seen as duplicates. Next step is drop the unneeded columns, then drop dupes, and then rename the df for usability"
   ]
  },
  {
   "cell_type": "code",
   "execution_count": null,
   "id": "cf604161",
   "metadata": {},
   "outputs": [],
   "source": [
    "top25g = top25g1.drop_duplicates(subset=['Net Enrollment Change'], keep='last')\n",
    "top25g"
   ]
  },
  {
   "cell_type": "code",
   "execution_count": null,
   "id": "c9d9c4c2",
   "metadata": {},
   "outputs": [],
   "source": [
    "len(top25g)"
   ]
  },
  {
   "cell_type": "code",
   "execution_count": null,
   "id": "d4ee836f",
   "metadata": {},
   "outputs": [],
   "source": [
    "top25l1 = data.nsmallest(200, \"Net Enrollment Change\", keep='last')\n",
    "len(top25l1)"
   ]
  },
  {
   "cell_type": "code",
   "execution_count": null,
   "id": "90fa20f8",
   "metadata": {},
   "outputs": [],
   "source": [
    "top25l = top25l1.drop_duplicates(subset=['Net Enrollment Change'], keep='last')\n",
    "top25l"
   ]
  },
  {
   "cell_type": "code",
   "execution_count": null,
   "id": "cf5efc47",
   "metadata": {},
   "outputs": [],
   "source": [
    "len(top25l)"
   ]
  },
  {
   "cell_type": "markdown",
   "id": "8383759a",
   "metadata": {},
   "source": [
    "## EDA"
   ]
  },
  {
   "cell_type": "code",
   "execution_count": null,
   "id": "fe50298b",
   "metadata": {},
   "outputs": [],
   "source": [
    "#looking for areas of strong correlation to dig into with deeper analysis\n",
    "# fig, ax = plt.subplots(figsize=(10, 10))\n",
    "\n",
    "# corr = data.corr()\n",
    "# cmap = sns.diverging_palette(220, 10, as_cmap=True)\n",
    "\n",
    "# mask = np.zeros_like(corr, dtype=np.bool)\n",
    "# mask[np.triu_indices_from(mask)] = True\n",
    "\n",
    "# sns.heatmap(corr, cmap=cmap, mask = mask, center=0,\n",
    "#            square=True, linewidths=.5, cbar_kws={\"shrink\": .5});"
   ]
  },
  {
   "cell_type": "code",
   "execution_count": null,
   "id": "aaa7a6c8",
   "metadata": {},
   "outputs": [],
   "source": [
    "top25g['Locale'].value_counts(normalize=True)*100"
   ]
  },
  {
   "cell_type": "code",
   "execution_count": null,
   "id": "1a1ce298",
   "metadata": {},
   "outputs": [],
   "source": [
    "top25g['State Name'].value_counts(normalize=True)*100"
   ]
  },
  {
   "cell_type": "code",
   "execution_count": null,
   "id": "f24ba895",
   "metadata": {},
   "outputs": [],
   "source": [
    "top25g['Primary Funding Model'].value_counts(normalize=True)*100"
   ]
  },
  {
   "cell_type": "code",
   "execution_count": null,
   "id": "1b966141",
   "metadata": {},
   "outputs": [],
   "source": [
    "top25g['2020 Election Result'].value_counts(normalize=True)*100"
   ]
  },
  {
   "cell_type": "code",
   "execution_count": null,
   "id": "e837548a",
   "metadata": {
    "scrolled": true
   },
   "outputs": [],
   "source": [
    "top25g['Census Region'].value_counts(normalize=True)*100"
   ]
  },
  {
   "cell_type": "code",
   "execution_count": null,
   "id": "3a8825f1",
   "metadata": {},
   "outputs": [],
   "source": [
    "top25g.groupby('Agency Name')['School Count'].value_counts()"
   ]
  },
  {
   "cell_type": "code",
   "execution_count": null,
   "id": "6b9b3552",
   "metadata": {},
   "outputs": [],
   "source": [
    "top25l['Locale'].value_counts(normalize=True)*100"
   ]
  },
  {
   "cell_type": "code",
   "execution_count": null,
   "id": "a616325e",
   "metadata": {},
   "outputs": [],
   "source": [
    "top25l['State Name'].value_counts(normalize=True)*100"
   ]
  },
  {
   "cell_type": "code",
   "execution_count": null,
   "id": "d4b7ae73",
   "metadata": {},
   "outputs": [],
   "source": [
    "top25l['Primary Funding Model'].value_counts(normalize=True)*100"
   ]
  },
  {
   "cell_type": "code",
   "execution_count": null,
   "id": "5943a0fa",
   "metadata": {},
   "outputs": [],
   "source": [
    "top25l['2020 Election Result'].value_counts(normalize=True)*100"
   ]
  },
  {
   "cell_type": "code",
   "execution_count": null,
   "id": "5fb5eaee",
   "metadata": {
    "scrolled": true
   },
   "outputs": [],
   "source": [
    "top25l['Census Region'].value_counts(normalize=True)*100"
   ]
  },
  {
   "cell_type": "code",
   "execution_count": null,
   "id": "564eb8e8",
   "metadata": {
    "scrolled": true
   },
   "outputs": [],
   "source": [
    "top25l.groupby('Agency Name')['School Count'].value_counts()"
   ]
  },
  {
   "cell_type": "code",
   "execution_count": null,
   "id": "a07669e7",
   "metadata": {},
   "outputs": [],
   "source": [
    "data['Locale'].value_counts(normalize=True)*100"
   ]
  },
  {
   "cell_type": "code",
   "execution_count": null,
   "id": "7e7394a0",
   "metadata": {},
   "outputs": [],
   "source": [
    "data['State Name'].value_counts(normalize=True)*100"
   ]
  },
  {
   "cell_type": "code",
   "execution_count": null,
   "id": "43592dfb",
   "metadata": {},
   "outputs": [],
   "source": [
    "data['Primary Funding Model'].value_counts(normalize=True)*100"
   ]
  },
  {
   "cell_type": "code",
   "execution_count": null,
   "id": "b10a267c",
   "metadata": {},
   "outputs": [],
   "source": [
    "data['2020 Election Result'].value_counts(normalize=True)*100"
   ]
  },
  {
   "cell_type": "code",
   "execution_count": null,
   "id": "e4e46939",
   "metadata": {},
   "outputs": [],
   "source": [
    "data['Census Region'].value_counts(normalize=True)*100"
   ]
  },
  {
   "cell_type": "code",
   "execution_count": null,
   "id": "4c338a66",
   "metadata": {},
   "outputs": [],
   "source": [
    "growth_desc = top25g.describe()\n",
    "growth_desc\n",
    "#keep in mind that topenrollmentgrowth is based on 2013"
   ]
  },
  {
   "cell_type": "code",
   "execution_count": null,
   "id": "e176194b",
   "metadata": {},
   "outputs": [],
   "source": [
    "loss_desc = top25l.describe()\n",
    "loss_desc\n",
    "#keep in mind that topenrollmentloss is based on 2013"
   ]
  },
  {
   "cell_type": "code",
   "execution_count": null,
   "id": "52d188a1",
   "metadata": {},
   "outputs": [],
   "source": [
    "desc_13 = year13.describe()\n",
    "desc_13"
   ]
  },
  {
   "cell_type": "code",
   "execution_count": null,
   "id": "3ce0fb94",
   "metadata": {},
   "outputs": [],
   "source": [
    "desc_14 = year14.describe()\n",
    "desc_14"
   ]
  },
  {
   "cell_type": "code",
   "execution_count": null,
   "id": "da66d141",
   "metadata": {},
   "outputs": [],
   "source": [
    "desc_15 = year15.describe()\n",
    "desc_15"
   ]
  },
  {
   "cell_type": "code",
   "execution_count": null,
   "id": "001d501a",
   "metadata": {},
   "outputs": [],
   "source": [
    "desc_16 = year16.describe()\n",
    "desc_16"
   ]
  },
  {
   "cell_type": "code",
   "execution_count": null,
   "id": "6af6184d",
   "metadata": {},
   "outputs": [],
   "source": [
    "desc_17 = year17.describe()\n",
    "desc_17"
   ]
  },
  {
   "cell_type": "code",
   "execution_count": null,
   "id": "03ae8359",
   "metadata": {},
   "outputs": [],
   "source": [
    "desc_18 = year18.describe()\n",
    "desc_18"
   ]
  },
  {
   "cell_type": "code",
   "execution_count": null,
   "id": "431c0314",
   "metadata": {},
   "outputs": [],
   "source": [
    "desc_19 = year19.describe()\n",
    "desc_19"
   ]
  },
  {
   "cell_type": "code",
   "execution_count": null,
   "id": "0f96b2f8",
   "metadata": {
    "scrolled": true
   },
   "outputs": [],
   "source": [
    "desc_20 = year20.describe()\n",
    "desc_20"
   ]
  },
  {
   "cell_type": "code",
   "execution_count": null,
   "id": "843779f1",
   "metadata": {},
   "outputs": [],
   "source": [
    "budgetloss = data.nsmallest(25, \"Annual Budgetary Change\", keep='last')\n",
    "budgetloss"
   ]
  },
  {
   "cell_type": "code",
   "execution_count": null,
   "id": "3257cc30",
   "metadata": {},
   "outputs": [],
   "source": [
    "budgetloss['Annual Budgetary Change'].value_counts()"
   ]
  },
  {
   "cell_type": "code",
   "execution_count": null,
   "id": "e72677c6",
   "metadata": {},
   "outputs": [],
   "source": [
    "budgetgrowth = data.nlargest(25, \"Annual Budgetary Change\", keep='last')\n",
    "budgetgrowth"
   ]
  },
  {
   "cell_type": "code",
   "execution_count": null,
   "id": "aa863ec1",
   "metadata": {
    "scrolled": true
   },
   "outputs": [],
   "source": [
    "budgetgrowth['Annual Budgetary Change'].value_counts()"
   ]
  },
  {
   "cell_type": "code",
   "execution_count": null,
   "id": "2fd92cea",
   "metadata": {},
   "outputs": [],
   "source": [
    "data.groupby('State Name')['Base Amount'].value_counts()"
   ]
  },
  {
   "cell_type": "markdown",
   "id": "71a3ca6c",
   "metadata": {},
   "source": [
    "## to_csv"
   ]
  },
  {
   "cell_type": "code",
   "execution_count": null,
   "id": "4f9a8e94",
   "metadata": {},
   "outputs": [],
   "source": [
    "#data.to_csv(\"../data/capstonedata_final.csv\")"
   ]
  },
  {
   "cell_type": "code",
   "execution_count": null,
   "id": "9d02f62d",
   "metadata": {},
   "outputs": [],
   "source": [
    "#data.to_csv(\"../data/top25_growth.csv\")"
   ]
  },
  {
   "cell_type": "code",
   "execution_count": null,
   "id": "3aa5c214",
   "metadata": {},
   "outputs": [],
   "source": [
    "#data.to_csv(\"../data/top25_loss.csv\")"
   ]
  },
  {
   "cell_type": "markdown",
   "id": "a2df0423",
   "metadata": {},
   "source": [
    "## Visualizations"
   ]
  },
  {
   "cell_type": "code",
   "execution_count": null,
   "id": "4e79599c",
   "metadata": {},
   "outputs": [],
   "source": [
    "#top 25 districts with net enrollment growth\n",
    "fig, ax = plt.subplots(figsize=(8, 8))\n",
    "plt.barh(top25g['Agency Name'], top25g['Net Enrollment Change'], color='blue')\n",
    "plt.xlabel('Net Enrollment Change')\n",
    "plt.tight_layout()\n",
    "plt.show();"
   ]
  },
  {
   "cell_type": "code",
   "execution_count": null,
   "id": "b014e97c",
   "metadata": {
    "scrolled": true
   },
   "outputs": [],
   "source": [
    "#top 25 districts with net enrollment growth, seaborn\n",
    "fig, ax = plt.subplots(figsize=(17, 10))\n",
    "sns.set_style('ticks')\n",
    "ax = sns.barplot(x='Net Enrollment Change', y='Agency Name',\n",
    "            data=top25g,\n",
    "            color='whitesmoke',\n",
    "            edgecolor='gainsboro',\n",
    "            lw=2)\n",
    "ax.bar_label(ax.containers[0], size=12, padding=2)\n",
    "plt.xlabel('Net Enrollment Change')\n",
    "plt.ylabel(None)\n",
    "plt.title('Districts with Largest Net Enrollment Growth, 2013 - 2020')\n",
    "plt.tight_layout()\n",
    "plt.savefig('Top 25 Net Enrollment Growth Districts')\n",
    "plt.show();\n",
    "#not sure if the bar labels are helpful or distracting at this point"
   ]
  },
  {
   "cell_type": "code",
   "execution_count": null,
   "id": "b6ea7b6b",
   "metadata": {
    "scrolled": false
   },
   "outputs": [],
   "source": [
    "#top 25 districts with net enrollment loss, seaborn\n",
    "fig, ax = plt.subplots(figsize=(18, 10))\n",
    "sns.set_style('white')\n",
    "ax = sns.barplot(x='Net Enrollment Change', y='Agency Name',\n",
    "            data=top25l,\n",
    "           color='dimgray',\n",
    "            edgecolor='white',\n",
    "            lw=2)\n",
    "ax.bar_label(ax.containers[0], size=12, padding=2)\n",
    "plt.xlabel('Net Enrollment Change')\n",
    "plt.ylabel(None)\n",
    "plt.xticks([-200000, -160000, -120000, -80000, -40000, 0])\n",
    "plt.title('Districts with Largest Net Enrollment Loss, 2013 - 2020')\n",
    "plt.tight_layout()\n",
    "plt.savefig('Top 25 Net Enrollment Loss Districts')\n",
    "plt.show();\n",
    "#look into changing the x axis labels so that the graph doesn't have to stretch as much for LAUSD "
   ]
  },
  {
   "cell_type": "code",
   "execution_count": null,
   "id": "75b5f4c9",
   "metadata": {},
   "outputs": [],
   "source": [
    "top25combo = pd.concat([top25g, top25l])\n",
    "top25combo"
   ]
  },
  {
   "cell_type": "code",
   "execution_count": null,
   "id": "d0310c1e",
   "metadata": {},
   "outputs": [],
   "source": [
    "#profiles of top 25 - state\n",
    "sns.set(rc={\"figure.figsize\":(8,8)})\n",
    "state_order=['TEXAS', 'CALIFORNIA', 'FLORIDA', 'UTAH', 'MARYLAND', 'GEORGIA', 'VIRGINIA', 'IDAHO', 'NORTH CAROLINA', 'ILLINOIS', 'TENNESSEE', 'PENNSYLVANIA', 'HAWAII', 'NEW MEXICO', 'OKLAHOMA', 'LOUISIANA', 'MISSISSIPPI', 'INDIANA']\n",
    "sns.countplot(x='State Name', data=top25combo, order=state_order, palette='ocean_r')\n",
    "#plt.legend(bbox_to_anchor=(1.05, 1), loc='upper right', borderaxespad=0)\n",
    "plt.xticks(rotation=70)\n",
    "plt.xlabel(None)\n",
    "plt.ylabel('Number of Districts')\n",
    "plt.title('Number of School Districts by State - Top 25 Growth & Loss, 2013 - 2020')\n",
    "plt.tight_layout()\n",
    "plt.show();"
   ]
  },
  {
   "cell_type": "code",
   "execution_count": null,
   "id": "7d854b76",
   "metadata": {
    "scrolled": true
   },
   "outputs": [],
   "source": [
    "#countplot by state for top 25 enrollment growth\n",
    "sns.set(rc={\"figure.figsize\":(8,8)})\n",
    "sns.set_style('white')\n",
    "state_order=['TEXAS', 'FLORIDA', 'UTAH', 'GEORGIA', 'MARYLAND', 'IDAHO', 'NORTH CAROLINA', 'VIRGINIA']\n",
    "sns.countplot(x='State Name', data=top25g, order=state_order, color='gainsboro', edgecolor='dimgrey')\n",
    "#plt.legend(bbox_to_anchor=(1.05, 1), loc='upper right', borderaxespad=0)\n",
    "plt.xticks(rotation=70)\n",
    "plt.xlabel(None)\n",
    "plt.ylabel('Number of Districts')\n",
    "plt.title('Number of Districts by State - Top 25 Growth, 2013 - 2020')\n",
    "plt.tight_layout()\n",
    "plt.savefig('States in Top 25 Growth')\n",
    "plt.show();"
   ]
  },
  {
   "cell_type": "code",
   "execution_count": null,
   "id": "7a1bf794",
   "metadata": {
    "scrolled": true
   },
   "outputs": [],
   "source": [
    "#countplot by state for top 25 enrollment loss\n",
    "sns.set(rc={\"figure.figsize\":(8,8)})\n",
    "sns.set_style('white')\n",
    "state_order=['TEXAS', 'CALIFORNIA', 'FLORIDA', 'HAWAII', 'ILLINOIS', 'INDIANA', 'LOUISIANA', 'MISSISSIPPI', 'NEW MEXICO', 'OKLAHOMA', 'PENNSYLVANIA', 'TENNESSEE']\n",
    "sns.countplot(x='State Name', data=top25l, order=state_order, color='dimgray', edgecolor='white')\n",
    "#plt.legend(bbox_to_anchor=(1.05, 1), loc='upper right', borderaxespad=0)\n",
    "plt.xticks(rotation=70)\n",
    "plt.xlabel(None)\n",
    "plt.ylabel('Number of Districts')\n",
    "plt.title('Number of Districts by State - Top 25 Loss, 2013 - 2020')\n",
    "plt.tight_layout()\n",
    "plt.savefig('States in Top 25 Loss')\n",
    "plt.show();"
   ]
  },
  {
   "cell_type": "code",
   "execution_count": null,
   "id": "20c36c0a",
   "metadata": {},
   "outputs": [],
   "source": [
    "#profiles of top 25 - locale\n",
    "sns.set(rc={\"figure.figsize\":(8,8)})\n",
    "locale_order=['21-Suburb: Large', '11-City: Large', '12-City: Mid-size', '13-City: Small', '41-Rural: Fringe', '43-Rural: Remote', '32-Town: Distant', '31-Town: Fringe']\n",
    "sns.countplot(x='Locale', data=top25combo, order=locale_order, palette='ocean_r')\n",
    "#plt.legend(bbox_to_anchor=(1.05, 1), loc='upper right', borderaxespad=0)\n",
    "plt.xticks(rotation=70)\n",
    "plt.xlabel(None)\n",
    "plt.ylabel('Number of Districts')\n",
    "plt.title('Number of School Districts by Locale - Top 25 Growth & Loss, 2013 - 2020')\n",
    "plt.tight_layout()\n",
    "plt.show();"
   ]
  },
  {
   "cell_type": "code",
   "execution_count": null,
   "id": "7e2991fe",
   "metadata": {
    "scrolled": true
   },
   "outputs": [],
   "source": [
    "#profiles of top 25 growth - locale\n",
    "sns.set(rc={\"figure.figsize\":(8,8)})\n",
    "sns.set_style('white')\n",
    "locale_order=['21-Suburb: Large', '13-City: Small', '11-City: Large', '41-Rural: Fringe', '43-Rural: Remote', '32-Town: Distant', '31-Town: Fringe']\n",
    "sns.countplot(x='Locale', data=top25g, order=locale_order, color='gainsboro', edgecolor='dimgrey')\n",
    "#plt.legend(bbox_to_anchor=(1.05, 1), loc='upper right', borderaxespad=0)\n",
    "plt.xticks(rotation=70)\n",
    "plt.xlabel(None)\n",
    "plt.ylabel('Number of Districts')\n",
    "plt.title('Number of School Districts by Locale - Top 25 Growth, 2013 - 2020')\n",
    "plt.tight_layout()\n",
    "plt.savefig('Locale Top 25 Growth')\n",
    "plt.show();"
   ]
  },
  {
   "cell_type": "code",
   "execution_count": null,
   "id": "fcd743da",
   "metadata": {
    "scrolled": true
   },
   "outputs": [],
   "source": [
    "#profiles of top 25 loss - locale\n",
    "sns.set(rc={\"figure.figsize\":(8,8)})\n",
    "sns.set_style('white')\n",
    "#locale_order=['21-Suburb: Large', '13-City: Small', '11-City: Large', '41-Rural: Fringe', '43-Rural: Remote', '32-Town: Distant', '31-Town: Fringe']\n",
    "sns.countplot(x='Locale', data=top25l, color='dimgray', edgecolor='white')\n",
    "#plt.legend(bbox_to_anchor=(1.05, 1), loc='upper right', borderaxespad=0)\n",
    "plt.xticks(rotation=70)\n",
    "plt.xlabel(None)\n",
    "plt.ylabel('Number of Districts')\n",
    "plt.title('Number of School Districts by Locale - Top 25 Enrollment Loss, 2013 - 2020')\n",
    "plt.tight_layout()\n",
    "plt.savefig('Locale Top 25 Loss')\n",
    "plt.show();"
   ]
  },
  {
   "cell_type": "code",
   "execution_count": null,
   "id": "461694e2",
   "metadata": {},
   "outputs": [],
   "source": [
    "#profiles of top 25 - census region\n",
    "sns.set(rc={\"figure.figsize\":(8,8)})\n",
    "#locale_order=['21-Suburb: Large', '11-City: Large', '12-City: Mid-size', '13-City: Small', '41-Rural: Fringe', '43-Rural: Remote', '32-Town: Distant', '31-Town: Fringe']\n",
    "sns.countplot(x='Census Region', data=top25combo, palette='ocean_r')\n",
    "#plt.legend(bbox_to_anchor=(1.05, 1), loc='upper right', borderaxespad=0)\n",
    "plt.xticks(rotation=70)\n",
    "plt.xlabel(None)\n",
    "plt.ylabel('Number of Districts')\n",
    "plt.title('Number of School Districts by Census Region - Top 25 Growth & Loss, 2013 - 2020')\n",
    "plt.tight_layout()\n",
    "plt.show();"
   ]
  },
  {
   "cell_type": "code",
   "execution_count": null,
   "id": "fe73785b",
   "metadata": {
    "scrolled": true
   },
   "outputs": [],
   "source": [
    "#profiles of top 25 growth - census\n",
    "sns.set(rc={\"figure.figsize\":(8,8)})\n",
    "sns.set_style('white')\n",
    "#locale_order=['21-Suburb: Large', '13-City: Small', '11-City: Large', '41-Rural: Fringe', '43-Rural: Remote', '32-Town: Distant', '31-Town: Fringe']\n",
    "sns.countplot(x='Census Region', data=top25g, color='gainsboro', edgecolor='dimgrey')\n",
    "#plt.legend(bbox_to_anchor=(1.05, 1), loc='upper right', borderaxespad=0)\n",
    "plt.xticks(rotation=70)\n",
    "plt.xlabel(None)\n",
    "plt.ylabel('Number of Districts')\n",
    "plt.title('Number of School Districts by Census Region - Top 25 Growth, 2013 - 2020')\n",
    "plt.tight_layout()\n",
    "plt.savefig('Census Region Top 25 Growth')\n",
    "plt.show();"
   ]
  },
  {
   "cell_type": "code",
   "execution_count": null,
   "id": "b16d102e",
   "metadata": {
    "scrolled": true
   },
   "outputs": [],
   "source": [
    "#profiles of top 25 growth - census\n",
    "sns.set(rc={\"figure.figsize\":(8,8)})\n",
    "sns.set_style('white')\n",
    "census_order=['South', 'West', 'Midwest', 'Northeast']\n",
    "sns.countplot(x='Census Region', data=top25l, order=census_order, color='dimgray', edgecolor='white')\n",
    "#plt.legend(bbox_to_anchor=(1.05, 1), loc='upper right', borderaxespad=0)\n",
    "plt.xticks(rotation=70)\n",
    "plt.xlabel(None)\n",
    "plt.ylabel('Number of Districts')\n",
    "plt.title('Number of School Districts by Census Region - Top 25 Loss, 2013 - 2020')\n",
    "plt.tight_layout()\n",
    "plt.savefig('Census Region Top 15 Loss')\n",
    "plt.show();"
   ]
  },
  {
   "cell_type": "code",
   "execution_count": null,
   "id": "9866fafe",
   "metadata": {},
   "outputs": [],
   "source": [
    "#profiles of top 25 - election result\n",
    "sns.set(rc={\"figure.figsize\":(8,8)})\n",
    "#locale_order=['21-Suburb: Large', '11-City: Large', '12-City: Mid-size', '13-City: Small', '41-Rural: Fringe', '43-Rural: Remote', '32-Town: Distant', '31-Town: Fringe']\n",
    "sns.countplot(x='2020 Election Result', data=top25combo, palette='ocean_r')\n",
    "#plt.legend(bbox_to_anchor=(1.05, 1), loc='upper right', borderaxespad=0)\n",
    "plt.xticks(rotation=70)\n",
    "plt.xlabel(None)\n",
    "plt.ylabel('Number of Districts')\n",
    "plt.title('Number of School Districts by 2020 Election Result - Top 25 Growth & Loss, 2013 - 2020')\n",
    "plt.tight_layout()\n",
    "plt.show();"
   ]
  },
  {
   "cell_type": "code",
   "execution_count": null,
   "id": "19e60622",
   "metadata": {},
   "outputs": [],
   "source": [
    "#profiles of top 25 growth - election result\n",
    "sns.set(rc={\"figure.figsize\":(8,8)})\n",
    "#locale_order=['21-Suburb: Large', '13-City: Small', '11-City: Large', '41-Rural: Fringe', '43-Rural: Remote', '32-Town: Distant', '31-Town: Fringe']\n",
    "sns.countplot(x='2020 Election Result', data=top25g, palette='ocean_r')\n",
    "#plt.legend(bbox_to_anchor=(1.05, 1), loc='upper right', borderaxespad=0)\n",
    "plt.xticks(rotation=70)\n",
    "plt.xlabel(None)\n",
    "plt.ylabel('Number of Districts')\n",
    "plt.title('Number of School Districts by 2020 Election Result - Top 25 Growth, 2013 - 2020')\n",
    "plt.tight_layout()\n",
    "plt.show();"
   ]
  },
  {
   "cell_type": "code",
   "execution_count": null,
   "id": "67a1cf3f",
   "metadata": {},
   "outputs": [],
   "source": [
    "#profiles of top 25 growth - election result\n",
    "sns.set(rc={\"figure.figsize\":(8,8)})\n",
    "result_order=['Republican', 'Democrat']\n",
    "sns.countplot(x='2020 Election Result', data=top25l, order=result_order, palette='ocean_r')\n",
    "#plt.legend(bbox_to_anchor=(1.05, 1), loc='upper right', borderaxespad=0)\n",
    "plt.xticks(rotation=70)\n",
    "plt.xlabel(None)\n",
    "plt.ylabel('Number of Districts')\n",
    "plt.title('Number of School Districts by 2020 Election Result - Top 25 Loss, 2013 - 2020')\n",
    "plt.tight_layout()\n",
    "plt.show();"
   ]
  },
  {
   "cell_type": "code",
   "execution_count": null,
   "id": "e703956d",
   "metadata": {},
   "outputs": [],
   "source": [
    "#profiles of top 25 - funding model\n",
    "sns.set(rc={\"figure.figsize\":(8,8)})\n",
    "funding_order=['Student-based foundation', 'Resource-based allocation', 'Hybrid']\n",
    "sns.countplot(x='Primary Funding Model', data=top25combo, order=funding_order, palette='ocean_r')\n",
    "#plt.legend(bbox_to_anchor=(1.05, 1), loc='upper right', borderaxespad=0)\n",
    "plt.xticks(rotation=70)\n",
    "plt.xlabel(None)\n",
    "plt.ylabel('Number of Districts')\n",
    "plt.title('Number of School Districts by Primary Funding Model - Top 25 Growth & Loss, 2013 - 2020')\n",
    "plt.tight_layout()\n",
    "plt.show();"
   ]
  },
  {
   "cell_type": "code",
   "execution_count": null,
   "id": "2119469f",
   "metadata": {},
   "outputs": [],
   "source": [
    "#profiles of top 25 - funding model\n",
    "sns.set(rc={\"figure.figsize\":(8,8)})\n",
    "funding_order=['Student-based foundation', 'Resource-based allocation', 'Hybrid']\n",
    "sns.countplot(x='Primary Funding Model', data=top25g, order=funding_order, palette='ocean_r')\n",
    "#plt.legend(bbox_to_anchor=(1.05, 1), loc='upper right', borderaxespad=0)\n",
    "plt.xticks(rotation=70)\n",
    "plt.xlabel(None)\n",
    "plt.ylabel('Number of Districts')\n",
    "plt.title('Number of School Districts by Primary Funding Model - Top 25 Growth, 2013 - 2020')\n",
    "plt.tight_layout()\n",
    "plt.show();"
   ]
  },
  {
   "cell_type": "code",
   "execution_count": null,
   "id": "66244d17",
   "metadata": {},
   "outputs": [],
   "source": [
    "#profiles of top 25 - funding model\n",
    "sns.set(rc={\"figure.figsize\":(8,8)})\n",
    "#funding_order=['Student-based foundation', 'Resource-based allocation', 'Hybrid']\n",
    "sns.countplot(x='Primary Funding Model', data=top25l, palette='ocean_r')\n",
    "#plt.legend(bbox_to_anchor=(1.05, 1), loc='upper right', borderaxespad=0)\n",
    "plt.xticks(rotation=70)\n",
    "plt.xlabel(None)\n",
    "plt.ylabel('Number of Districts')\n",
    "plt.title('Number of School Districts by Primary Funding Model - Top 25 Loss, 2013 - 2020')\n",
    "plt.tight_layout()\n",
    "plt.show();"
   ]
  },
  {
   "cell_type": "code",
   "execution_count": null,
   "id": "d5a090c6",
   "metadata": {},
   "outputs": [],
   "source": [
    "#profiles of top 25 - funding model\n",
    "sns.set(rc={\"figure.figsize\":(8,8)})\n",
    "#funding_order=['Student-based foundation', 'Resource-based allocation', 'Hybrid']\n",
    "sns.countplot(x='Base Amount (Y/N)', data=top25combo, palette='ocean_r')\n",
    "#plt.legend(bbox_to_anchor=(1.05, 1), loc='upper right', borderaxespad=0)\n",
    "plt.xticks(rotation=70)\n",
    "plt.xlabel(None)\n",
    "plt.ylabel('Number of Districts')\n",
    "plt.title('Number of School Districts by Base Amount - Top 25 Growth & Loss, 2013 - 2020')\n",
    "plt.tight_layout()\n",
    "plt.show();"
   ]
  },
  {
   "cell_type": "code",
   "execution_count": null,
   "id": "40f4aa18",
   "metadata": {},
   "outputs": [],
   "source": [
    "#profiles of top 25 - funding model\n",
    "sns.set(rc={\"figure.figsize\":(8,8)})\n",
    "#funding_order=['Student-based foundation', 'Resource-based allocation', 'Hybrid']\n",
    "sns.countplot(x='Base Amount (Y/N)', data=top25g, palette='ocean_r')\n",
    "#plt.legend(bbox_to_anchor=(1.05, 1), loc='upper right', borderaxespad=0)\n",
    "plt.xticks(rotation=70)\n",
    "plt.xlabel(None)\n",
    "plt.ylabel('Number of Districts')\n",
    "plt.title('Number of School Districts by Base Amount - Top 25 Growth, 2013 - 2020')\n",
    "plt.tight_layout()\n",
    "plt.show();"
   ]
  },
  {
   "cell_type": "code",
   "execution_count": null,
   "id": "9183d6c3",
   "metadata": {},
   "outputs": [],
   "source": [
    "#profiles of top 25 - funding model\n",
    "sns.set(rc={\"figure.figsize\":(8,8)})\n",
    "#funding_order=['Student-based foundation', 'Resource-based allocation', 'Hybrid']\n",
    "sns.countplot(x='Base Amount (Y/N)', data=top25l, palette='ocean_r')\n",
    "#plt.legend(bbox_to_anchor=(1.05, 1), loc='upper right', borderaxespad=0)\n",
    "plt.xticks(rotation=70)\n",
    "plt.xlabel(None)\n",
    "plt.ylabel('Number of Districts')\n",
    "plt.title('Number of School Districts by Base Amount - Top 25 Loss, 2013 - 2020')\n",
    "plt.tight_layout()\n",
    "plt.show();"
   ]
  },
  {
   "cell_type": "code",
   "execution_count": null,
   "id": "3148d089",
   "metadata": {},
   "outputs": [],
   "source": [
    "#profiles of top 25 - funding model\n",
    "sns.set(rc={\"figure.figsize\":(8,8)})\n",
    "#funding_order=['Student-based foundation', 'Resource-based allocation', 'Hybrid']\n",
    "sns.histplot(x='Pupil/Teacher Ratio', data=top25combo, bins=8, color='#76b6c4')\n",
    "#plt.legend(bbox_to_anchor=(1.05, 1), loc='upper right', borderaxespad=0)\n",
    "#plt.xticks(rotation=70)\n",
    "plt.xlabel('Pupil/Teacher Ratio')\n",
    "plt.ylabel('Number of Districts')\n",
    "plt.title('Distribution of Pupil/Teacher Ratio - Top 25 Growth & Loss, 2013 - 2020')\n",
    "plt.tight_layout()\n",
    "plt.show();"
   ]
  },
  {
   "cell_type": "code",
   "execution_count": null,
   "id": "9487c1be",
   "metadata": {},
   "outputs": [],
   "source": [
    "#profiles of top 25 - funding model\n",
    "sns.set(rc={\"figure.figsize\":(8,8)})\n",
    "#funding_order=['Student-based foundation', 'Resource-based allocation', 'Hybrid']\n",
    "sns.histplot(x='Pupil/Teacher Ratio', data=top25g, bins=8, color='#76b6c4')\n",
    "#plt.legend(bbox_to_anchor=(1.05, 1), loc='upper right', borderaxespad=0)\n",
    "#plt.xticks(rotation=70)\n",
    "plt.xlabel('Pupil/Teacher Ratio')\n",
    "plt.ylabel('Number of Districts')\n",
    "plt.title('Distribution of Pupil/Teacher Ratio - Top 25 Growth, 2013 - 2020')\n",
    "plt.tight_layout()\n",
    "plt.show();"
   ]
  },
  {
   "cell_type": "code",
   "execution_count": null,
   "id": "8c068458",
   "metadata": {},
   "outputs": [],
   "source": [
    "#profiles of top 25 - funding model\n",
    "sns.set(rc={\"figure.figsize\":(8,8)})\n",
    "#funding_order=['Student-based foundation', 'Resource-based allocation', 'Hybrid']\n",
    "sns.histplot(x='Pupil/Teacher Ratio', data=top25l, bins=8, color='#76b6c4')\n",
    "#plt.legend(bbox_to_anchor=(1.05, 1), loc='upper right', borderaxespad=0)\n",
    "#plt.xticks(rotation=70)\n",
    "plt.xlabel('Pupil/Teacher Ratio')\n",
    "plt.ylabel('Number of Districts')\n",
    "plt.title('Distribution of Pupil/Teacher Ratio - Top 25 Loss, 2013 - 2020')\n",
    "plt.tight_layout()\n",
    "plt.show();"
   ]
  },
  {
   "cell_type": "code",
   "execution_count": null,
   "id": "1751a7e1",
   "metadata": {},
   "outputs": [],
   "source": [
    "sns.set(rc={\"figure.figsize\":(22,10)})\n",
    "sns.lineplot(data['State Name'], data['Net Enrollment Change'])\n",
    "plt.xticks(rotation=70);"
   ]
  },
  {
   "cell_type": "code",
   "execution_count": null,
   "id": "14761ab8",
   "metadata": {},
   "outputs": [],
   "source": [
    "sns.relplot(x='Year', y='Student Count',\n",
    "           hue='Census Region',\n",
    "            data=data.loc[data['State Name'].isin(['TEXAS', 'CALIFORNIA', 'FLORIDA', 'UTAH', 'MARYLAND', 'GEORGIA', 'VIRIGINIA', 'IDAHO', 'NORTH CAROLINA'])],\n",
    "            kind='line', ci=None);"
   ]
  },
  {
   "cell_type": "code",
   "execution_count": null,
   "id": "eae63794",
   "metadata": {},
   "outputs": [],
   "source": [
    "sns.relplot(x='Year', y='Student Count',\n",
    "           hue='State Name',\n",
    "            data=data,\n",
    "            kind='line', ci=None);"
   ]
  },
  {
   "cell_type": "code",
   "execution_count": null,
   "id": "036f6739",
   "metadata": {},
   "outputs": [],
   "source": [
    "sns.set(rc={\"figure.figsize\":(8,8)})\n",
    "#funding_order=['Student-based foundation', 'Resource-based allocation', 'Hybrid']\n",
    "sns.histplot(x='Base Amount', data=year20, bins=6, color='#064273')\n",
    "#plt.legend(bbox_to_anchor=(1.05, 1), loc='upper right', borderaxespad=0)\n",
    "#plt.xticks(rotation=70)\n",
    "plt.xlabel('Funding Base Amount')\n",
    "plt.ylabel('Number of Districts')\n",
    "plt.title('Distribution of Base Amount Funding, 2020')\n",
    "plt.tight_layout()\n",
    "plt.show();"
   ]
  },
  {
   "cell_type": "code",
   "execution_count": null,
   "id": "e24aca2c",
   "metadata": {},
   "outputs": [],
   "source": [
    "sns.set(rc={\"figure.figsize\":(8,8)})\n",
    "#funding_order=['Student-based foundation', 'Resource-based allocation', 'Hybrid']\n",
    "sns.histplot(x='Base Amount', data=top25g, bins=5, color='#064273')\n",
    "#plt.legend(bbox_to_anchor=(1.05, 1), loc='upper right', borderaxespad=0)\n",
    "#plt.xticks(rotation=70)\n",
    "plt.xlabel('Funding Base Amount')\n",
    "plt.ylabel('Number of Districts')\n",
    "plt.title('Distribution of Base Amount Funding - Top 25 Growth, 2013 - 2020')\n",
    "plt.tight_layout()\n",
    "plt.show();"
   ]
  },
  {
   "cell_type": "code",
   "execution_count": null,
   "id": "ff414a6b",
   "metadata": {},
   "outputs": [],
   "source": [
    "sns.set(rc={\"figure.figsize\":(8,8)})\n",
    "#funding_order=['Student-based foundation', 'Resource-based allocation', 'Hybrid']\n",
    "sns.histplot(x='Base Amount', data=top25l, bins=5, color='#064273')\n",
    "#plt.legend(bbox_to_anchor=(1.05, 1), loc='upper right', borderaxespad=0)\n",
    "#plt.xticks(rotation=70)\n",
    "plt.xlabel('Funding Base Amount')\n",
    "plt.ylabel('Number of Districts')\n",
    "plt.title('Distribution of Base Amount Funding - Top 25 Loss, 2013 - 2020')\n",
    "plt.tight_layout()\n",
    "plt.show();"
   ]
  },
  {
   "cell_type": "code",
   "execution_count": null,
   "id": "c1c06a8b",
   "metadata": {},
   "outputs": [],
   "source": [
    "fig, ax = plt.subplots(figsize=(16, 8))\n",
    "sns.set_style('white')\n",
    "state_order=['DISTRICT OF COLUMBIA', 'NEW JERSEY', 'CONNECTICUT', 'RHODE ISLAND', 'NORTH DAKOTA', 'MICHIGAN', 'CALIFORNIA', 'MARYLAND', 'COLORADO', 'ARKANSAS', 'NEVADA', 'NEW YORK', 'MINNESOTA', 'MISSOURI', 'IOWA', 'TEXAS', 'INDIANA', 'ALASKA', 'MISSISSIPPI', 'HAWAII', 'FLORIDA','KANSAS', 'OREGON', 'ARIZONA', 'LOUISIANA', 'KENTUCKY', 'UTAH', 'NEW HAMPSHIRE', 'GEORGIA', 'SOUTH CAROLINA']\n",
    "ax = sns.barplot(x='Base Amount', y='State Name',\n",
    "            data=baseamt,\n",
    "            order=state_order,\n",
    "           color='#8099FF')\n",
    "# for index, value in enumerate(y):\n",
    "#     plt.text(value, index,\n",
    "#             str(value))\n",
    "ax.bar_label(ax.containers[0], size=12, padding=3)\n",
    "plt.xlabel('Base Amount')\n",
    "plt.ylabel(None)\n",
    "plt.title('Base Amount Funding (in USD)')\n",
    "plt.tight_layout()\n",
    "#plt.savefig('Base Amount Funding - National')\n",
    "plt.show();"
   ]
  },
  {
   "cell_type": "code",
   "execution_count": null,
   "id": "9b9731de",
   "metadata": {
    "scrolled": true
   },
   "outputs": [],
   "source": [
    "statefunding = baseamt.groupby('Base Amount')['State Name'].value_counts()\n",
    "type(statefunding)"
   ]
  },
  {
   "cell_type": "code",
   "execution_count": null,
   "id": "22f96920",
   "metadata": {},
   "outputs": [],
   "source": [
    "statefunding.head()"
   ]
  },
  {
   "cell_type": "code",
   "execution_count": null,
   "id": "ee645832",
   "metadata": {},
   "outputs": [],
   "source": []
  },
  {
   "cell_type": "code",
   "execution_count": null,
   "id": "5d0f5ff5",
   "metadata": {},
   "outputs": [],
   "source": [
    "#profiles of top 25 - funding model\n",
    "sns.set(rc={\"figure.figsize\":(8,8)})\n",
    "sns.set_style('white')\n",
    "funding_order=['Student-based foundation', 'Hybrid', 'Resource-based allocation', 'Guaranteed tax base']\n",
    "sns.countplot(x='Primary Funding Model', data=data, order=funding_order, color='#8099FF')\n",
    "#plt.legend(bbox_to_anchor=(1.05, 1), loc='upper right', borderaxespad=0)\n",
    "plt.xticks(rotation=70)\n",
    "plt.xlabel(None)\n",
    "plt.ylabel('Number of Districts')\n",
    "plt.title('Number of School Districts by Primary Funding Model - National')\n",
    "plt.tight_layout()\n",
    "plt.show();"
   ]
  },
  {
   "cell_type": "code",
   "execution_count": null,
   "id": "559a079f",
   "metadata": {},
   "outputs": [],
   "source": [
    "fundingdf =(data['Primary Funding Model'].value_counts(normalize=True)*100).rename_axis('Funding Type').to_frame('Percentage').reset_index()\n",
    "fundingdf"
   ]
  },
  {
   "cell_type": "code",
   "execution_count": null,
   "id": "a64ed66b",
   "metadata": {},
   "outputs": [],
   "source": [
    "type(fundingdf)"
   ]
  },
  {
   "cell_type": "code",
   "execution_count": null,
   "id": "08bb679e",
   "metadata": {},
   "outputs": [],
   "source": [
    "sns.set(rc={\"figure.figsize\":(8,8)})\n",
    "sns.set_style('white')\n",
    "#funding_order=['Student-based foundation', 'Hybrid', 'Resource-based allocation', 'Guaranteed tax base']\n",
    "sns.barplot(x='Funding Type', y='Percentage', data=fundingdf, color='#8099FF')\n",
    "plt.xticks(rotation=70)\n",
    "plt.xlabel(None)\n",
    "plt.ylabel('Percentage of Districts')\n",
    "plt.title('Percentage of School Districts by Primary Funding Model - National')\n",
    "plt.tight_layout()\n",
    "plt.show();"
   ]
  },
  {
   "cell_type": "code",
   "execution_count": null,
   "id": "9d2d27cb",
   "metadata": {},
   "outputs": [],
   "source": [
    "base_amount = baseamt[['State Name', 'Base Amount']]\n",
    "base_amount.head()"
   ]
  },
  {
   "cell_type": "code",
   "execution_count": null,
   "id": "7d7a454c",
   "metadata": {},
   "outputs": [],
   "source": [
    "basefunding = base_amount.drop_duplicates(keep='first').reset_index()\n",
    "basefunding.head(10)"
   ]
  },
  {
   "cell_type": "code",
   "execution_count": null,
   "id": "b7bd9450",
   "metadata": {
    "scrolled": true
   },
   "outputs": [],
   "source": [
    "basefunding = basefunding.drop(columns='index')"
   ]
  },
  {
   "cell_type": "code",
   "execution_count": null,
   "id": "0f1b9992",
   "metadata": {
    "scrolled": true
   },
   "outputs": [],
   "source": [
    "basefunding.head()"
   ]
  },
  {
   "cell_type": "code",
   "execution_count": null,
   "id": "b58dffcf",
   "metadata": {},
   "outputs": [],
   "source": [
    "bfunding = basefunding.rename(columns = {'state' : 'State Name', 'amount' : 'Base Amount'})\n",
    "bfunding.head()"
   ]
  },
  {
   "cell_type": "code",
   "execution_count": null,
   "id": "c60951ac",
   "metadata": {
    "scrolled": true
   },
   "outputs": [],
   "source": [
    "fig, ax = plt.subplots(figsize=(18, 8))\n",
    "sns.set_style('white')\n",
    "state_order=['DISTRICT OF COLUMBIA', 'NEW JERSEY', 'CONNECTICUT', 'RHODE ISLAND', 'NORTH DAKOTA', 'MICHIGAN', 'CALIFORNIA', 'MARYLAND', 'COLORADO', 'ARKANSAS', 'NEVADA', 'NEW YORK', 'MINNESOTA', 'MISSOURI', 'IOWA', 'TEXAS', 'INDIANA', 'ALASKA', 'MISSISSIPPI', 'HAWAII', 'FLORIDA','KANSAS', 'OREGON', 'ARIZONA', 'LOUISIANA', 'KENTUCKY', 'UTAH', 'NEW HAMPSHIRE', 'GEORGIA', 'SOUTH CAROLINA']\n",
    "ax = sns.barplot(x='Base Amount', y='State Name', data=bfunding, order=state_order, color='#0033FF')\n",
    "ax.bar_label(ax.containers[0], size=12, padding=3, fmt='%.2f')\n",
    "plt.xlabel('Base Amount')\n",
    "plt.ylabel(None)\n",
    "plt.title('Base Amount Funding (in USD)')\n",
    "plt.tight_layout()\n",
    "plt.savefig('Base Amount Funding - National_2')\n",
    "plt.show();\n",
    "#hooray - floats are standardized in the bar labels"
   ]
  },
  {
   "cell_type": "code",
   "execution_count": null,
   "id": "49537ff0",
   "metadata": {},
   "outputs": [],
   "source": []
  }
 ],
 "metadata": {
  "kernelspec": {
   "display_name": "Python 3 (ipykernel)",
   "language": "python",
   "name": "python3"
  },
  "language_info": {
   "codemirror_mode": {
    "name": "ipython",
    "version": 3
   },
   "file_extension": ".py",
   "mimetype": "text/x-python",
   "name": "python",
   "nbconvert_exporter": "python",
   "pygments_lexer": "ipython3",
   "version": "3.9.7"
  }
 },
 "nbformat": 4,
 "nbformat_minor": 5
}
